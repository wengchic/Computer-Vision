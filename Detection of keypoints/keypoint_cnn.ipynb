{
 "cells": [
  {
   "cell_type": "markdown",
   "metadata": {},
   "source": [
    "# Keypoint(Patch) Description\n",
    "<a id='top_cell'></a>  \n",
    "This project will be all about defining and training a convolutional neural network to perform keypoint  description. \n",
    "PyTorch tutorials are available at here: [pytorch tutorials](https://github.com/yunjey/pytorch-tutorial)\n",
    "\n",
    "Today we will go through:\n",
    "### 1. [Load and visualize the data](#load_data_cell)\n",
    "### 2. [Build an example deep network](#build_network_cell)\n",
    "### 3. [Train the deep network](#train_network_cell)\n",
    "### 4. [Generate deep features](#generate_deep_features_cell)\n",
    "\n",
    "***\n",
    "\n",
    "We will use below dataset in this project:\n",
    "###  [The Photo Tourism dataset ](http://phototour.cs.washington.edu/patches/default.htm)\n",
    "\n",
    "It is also available in PyTorch torchvision datasets: [pytorch version](https://pytorch.org/docs/stable/_modules/torchvision/datasets/phototour.html#PhotoTour)\n",
    "\n",
    "This dataset consists of 1024 x 1024 bitmap (.bmp) images, each containing a 16 x 16 array of image patches. Here are some examples:\n",
    "\n",
    "<table><tr><td><img src='images/patches0001.bmp' width=68% ></td><td><img src='images/patches1482.bmp' width=68%></td></tr></table>    \n",
    "For details of how the scale and orientation is established, please see the paper:  \n",
    "<p class=\"style8\"><font size=\"2\">S. Winder and M. Brown. <strong>Learning Local Image \n",
    "\t\t\t\tDescriptors</strong>. To appear <i>International Conference on \n",
    "\t\t\t\tComputer Vision and Pattern Recognition (CVPR2007)</i> (</font><a href=\"http://research.microsoft.com/~swinder/papers/winder_brown_cvpr07.pdf\"><span class=\"style9\">pdf \n",
    "\t\t\t\t300Kb</span></a><font size=\"2\">)</font></p>\n",
    "\n",
    "\n",
    "\n",
    "---"
   ]
  },
  {
   "cell_type": "markdown",
   "metadata": {},
   "source": [
    "### Import packages"
   ]
  },
  {
   "cell_type": "code",
   "execution_count": 1,
   "metadata": {},
   "outputs": [],
   "source": [
    "from __future__ import division, print_function\n",
    "import glob\n",
    "import os\n",
    "import warnings\n",
    "warnings.simplefilter(\"ignore\")\n",
    "import cv2\n",
    "import PIL\n",
    "import random\n",
    "import numpy as np\n",
    "import pandas as pd\n",
    "import matplotlib.pyplot as plt\n",
    "import matplotlib.image as mpimg\n",
    "import torch\n",
    "import torch.nn.init\n",
    "import torch.nn as nn\n",
    "import torch.optim as optim\n",
    "import torch.backends.cudnn as cudnn\n",
    "import torch.nn.functional as F\n",
    "import torchvision.datasets as dset\n",
    "import torchvision.transforms as transforms\n",
    "from tqdm import tqdm\n",
    "from torch.autograd import Variable\n",
    "from copy import deepcopy, copy\n",
    "from config_profile import args\n",
    "from Utils import cv2_scale36, cv2_scale, np_reshape, np_reshape64\n",
    "from Utils import L2Norm, cv2_scale, np_reshape"
   ]
  },
  {
   "cell_type": "markdown",
   "metadata": {},
   "source": [
    "### Check GPU availability, using nvidia-smi "
   ]
  },
  {
   "cell_type": "code",
   "execution_count": 2,
   "metadata": {},
   "outputs": [
    {
     "name": "stdout",
     "output_type": "stream",
     "text": [
      "1.8.1+cu101\n",
      "10.1\n",
      "True\n"
     ]
    }
   ],
   "source": [
    "# Since there are two GPUs on each pelican server, you can either select it as 0 or 1\n",
    "os.environ[\"CUDA_VISIBLE_DEVICES\"] = \"0\"\n",
    "print(torch.__version__)\n",
    "print(torch.version.cuda)  \n",
    "print(torch.cuda.is_available())"
   ]
  },
  {
   "cell_type": "markdown",
   "metadata": {},
   "source": [
    "---\n",
    "---\n",
    "<a id='load_data_cell'></a>\n",
    "## Load and visualize the data\n",
    "\n",
    "In this section, we will \n",
    "#### 1. [Define a PyTorch dataset](#pytorch_dataset_cell)\n",
    "#### 2. [Define a PyTorch dataloader](#pytorch_dataloader_cell)\n",
    "#### 3. [Load data](#load_dataset_cell)\n",
    "#### 4. [Visualizaiton of the Training and Testing Data](#visualize_dataset_cell)\n",
    "\n",
    "[BackToTop](#top_cell)\n",
    "\n",
    "---"
   ]
  },
  {
   "cell_type": "markdown",
   "metadata": {},
   "source": [
    "<a id='pytorch_dataset_cell'></a>\n",
    "### Define PyTorch dataset\n",
    "\n",
    "[BackToSection](#load_data_cell)"
   ]
  },
  {
   "cell_type": "code",
   "execution_count": 3,
   "metadata": {},
   "outputs": [],
   "source": [
    "class TripletPhotoTour(dset.PhotoTour):\n",
    "    \"\"\"\n",
    "    From the PhotoTour Dataset it generates triplet samples\n",
    "    note: a triplet is composed by a pair of matching images and one of\n",
    "    different class.\n",
    "    \"\"\"\n",
    "    def __init__(self, train=True, transform=None, batch_size = None,load_random_triplets = False,  *arg, **kw):\n",
    "        super(TripletPhotoTour, self).__init__(*arg, **kw)\n",
    "        self.transform = transform\n",
    "        self.out_triplets = load_random_triplets\n",
    "        self.train = train\n",
    "        self.n_triplets = args.n_triplets\n",
    "        \n",
    "        \n",
    "        self.batch_size = batch_size\n",
    "        self.triplets = self.generate_triplets(self.labels, self.n_triplets)\n",
    "            \n",
    "    @staticmethod\n",
    "    def generate_triplets(labels, num_triplets):\n",
    "        def create_indices(_labels):\n",
    "            inds = dict()\n",
    "            for idx, ind in enumerate(_labels):\n",
    "                if ind not in inds:\n",
    "                    inds[ind] = []\n",
    "                inds[ind].append(idx)\n",
    "            return inds\n",
    "\n",
    "        triplets = []\n",
    "        indices = create_indices(labels.numpy())\n",
    "        unique_labels = np.unique(labels.numpy())\n",
    "        n_classes = unique_labels.shape[0]\n",
    "        # add only unique indices in batch\n",
    "        already_idxs = set()\n",
    "\n",
    "        for x in tqdm(range(num_triplets)):\n",
    "            if len(already_idxs) >= args.batch_size:\n",
    "                already_idxs = set()\n",
    "            c1 = np.random.randint(0, n_classes)\n",
    "            while c1 in already_idxs:\n",
    "                c1 = np.random.randint(0, n_classes)\n",
    "            already_idxs.add(c1)\n",
    "            c2 = np.random.randint(0, n_classes)\n",
    "            while c1 == c2:\n",
    "                c2 = np.random.randint(0, n_classes)\n",
    "            if len(indices[c1]) == 2:  # hack to speed up process\n",
    "                n1, n2 = 0, 1\n",
    "            else:\n",
    "                n1 = np.random.randint(0, len(indices[c1]))\n",
    "                n2 = np.random.randint(0, len(indices[c1]))\n",
    "                while n1 == n2:\n",
    "                    n2 = np.random.randint(0, len(indices[c1]))\n",
    "            n3 = np.random.randint(0, len(indices[c2]))\n",
    "            triplets.append([indices[c1][n1], indices[c1][n2], indices[c2][n3]])\n",
    "        return torch.LongTensor(np.array(triplets))\n",
    "\n",
    "    def __getitem__(self, index):\n",
    "        def transform_img(img):\n",
    "            if self.transform is not None:\n",
    "                img = self.transform(img.numpy())\n",
    "            return img\n",
    "\n",
    "        t = self.triplets[index]\n",
    "        a, p, n = self.data[t[0]], self.data[t[1]], self.data[t[2]]\n",
    "\n",
    "        img_a = transform_img(a)\n",
    "        img_p = transform_img(p)\n",
    "        img_n = None\n",
    "        if self.out_triplets:\n",
    "            img_n = transform_img(n)\n",
    "        # transform images if required\n",
    "        if args.fliprot:\n",
    "            do_flip = random.random() > 0.5\n",
    "            do_rot = random.random() > 0.5\n",
    "            if do_rot:\n",
    "                img_a = img_a.permute(0,2,1)\n",
    "                img_p = img_p.permute(0,2,1)\n",
    "                if self.out_triplets:\n",
    "                    img_n = img_n.permute(0,2,1)\n",
    "            if do_flip:\n",
    "                img_a = torch.from_numpy(deepcopy(img_a.numpy()[:,:,::-1]))\n",
    "                img_p = torch.from_numpy(deepcopy(img_p.numpy()[:,:,::-1]))\n",
    "                if self.out_triplets:\n",
    "                    img_n = torch.from_numpy(deepcopy(img_n.numpy()[:,:,::-1]))\n",
    "        return (img_a, img_p, img_n)\n",
    "        \n",
    "\n",
    "    def __len__(self):\n",
    "        return self.triplets.size(0)\n",
    "        "
   ]
  },
  {
   "cell_type": "markdown",
   "metadata": {},
   "source": [
    "<a id='pytorch_dataloader_cell'></a>\n",
    "### Define the dataloader\n",
    "[BackToSection](#load_data_cell)"
   ]
  },
  {
   "cell_type": "code",
   "execution_count": 4,
   "metadata": {},
   "outputs": [],
   "source": [
    "def create_loaders(dataset_names, load_random_triplets = False, verbose=False):\n",
    "    \"\"\"\n",
    "    For training, we use dataset 'liberty';\n",
    "    For testing, we use dataset 'notredame' and 'yosemite'\n",
    "    \n",
    "    \"\"\"\n",
    "    test_dataset_names = copy(dataset_names)\n",
    "    test_dataset_names.remove(args.training_set)\n",
    "\n",
    "    kwargs = {'num_workers': args.num_workers, 'pin_memory': args.pin_memory} if args.cuda else {}\n",
    "\n",
    "    np_reshape64 = lambda x: np.reshape(x, (64, 64, 1))\n",
    "    transform_test = transforms.Compose([\n",
    "            transforms.Lambda(np_reshape64),\n",
    "            transforms.ToPILImage(),\n",
    "            transforms.Resize(32),\n",
    "            transforms.ToTensor()])\n",
    "    transform_train = transforms.Compose([\n",
    "            transforms.Lambda(np_reshape64),\n",
    "            transforms.ToPILImage(),\n",
    "            transforms.RandomRotation(5,PIL.Image.BILINEAR),\n",
    "            transforms.RandomResizedCrop(32, scale = (0.9,1.0),ratio = (0.9,1.1)),\n",
    "            transforms.Resize(32),\n",
    "            transforms.ToTensor()])\n",
    "    transform = transforms.Compose([\n",
    "            transforms.Lambda(cv2_scale),\n",
    "            transforms.Lambda(np_reshape),\n",
    "            transforms.ToTensor(),\n",
    "            transforms.Normalize((args.mean_image,), (args.std_image,))])\n",
    "    if not args.augmentation:\n",
    "        transform_train = transform\n",
    "        transform_test = transform\n",
    "    train_loader = torch.utils.data.DataLoader(\n",
    "            TripletPhotoTour(train=True,\n",
    "                             load_random_triplets = load_random_triplets,\n",
    "                             batch_size=args.batch_size,\n",
    "                             root=args.dataroot,\n",
    "                             name=args.training_set,\n",
    "                             download=True,\n",
    "                             transform=transform_train),\n",
    "                             batch_size=args.batch_size,\n",
    "                             shuffle=False, **kwargs)\n",
    "\n",
    "    test_loaders = [{'name': name,\n",
    "                     'dataloader': torch.utils.data.DataLoader(\n",
    "             TripletPhotoTour(train=False,\n",
    "                     batch_size=args.test_batch_size,\n",
    "                     load_random_triplets = load_random_triplets,\n",
    "                     root=args.dataroot,\n",
    "                     name=name,\n",
    "                     download=True,\n",
    "                     transform=transform_test),\n",
    "                        batch_size=args.test_batch_size,\n",
    "                        shuffle=False, **kwargs)}\n",
    "                    for name in test_dataset_names]\n",
    "\n",
    "    return train_loader, test_loaders[0]"
   ]
  },
  {
   "cell_type": "markdown",
   "metadata": {},
   "source": [
    "<a id='load_dataset_cell'></a>\n",
    "\n",
    "### Load Data\n",
    "\n",
    "Load the Photo Tourism dataset by PyTorch. Below line (function 'create_loader') will help you to download the dataset to your directory. The data dir and other configuration setings are specified in config_profile.py.\n",
    "\n",
    "[BackToSection](#load_data_cell)"
   ]
  },
  {
   "cell_type": "code",
   "execution_count": 5,
   "metadata": {},
   "outputs": [
    {
     "name": "stdout",
     "output_type": "stream",
     "text": [
      "# Found cached data data/sets/liberty.pt\n"
     ]
    },
    {
     "name": "stderr",
     "output_type": "stream",
     "text": [
      "100%|██████████| 100000/100000 [00:01<00:00, 62487.13it/s]\n"
     ]
    },
    {
     "name": "stdout",
     "output_type": "stream",
     "text": [
      "# Found cached data data/sets/notredame.pt\n"
     ]
    },
    {
     "name": "stderr",
     "output_type": "stream",
     "text": [
      "100%|██████████| 100000/100000 [00:01<00:00, 58114.32it/s]\n"
     ]
    }
   ],
   "source": [
    "dataset_names = ['liberty', 'notredame']\n",
    "\n",
    "args.n_triplets = 100000    # for illustration, here we only use 5000 triples; in your experiment, set it as 100000\n",
    "args.epochs = 60             # in your experiment, set it as 60; For CNN1, it will take ~ 1hr20mins if n_triplets = 100000\n",
    "\n",
    "train_loader, validation_loader = create_loaders(dataset_names, load_random_triplets = args.load_random_triplets)\n"
   ]
  },
  {
   "cell_type": "markdown",
   "metadata": {},
   "source": [
    "---\n",
    "<a id='visualize_dataset_cell'></a>\n",
    "##  Visualizaiton of the Training and Testing Data\n",
    "Below are some examples of patches in this dataset.\n",
    "\n",
    "[BackToSection](#load_data_cell)\n",
    "\n",
    "#### Data in Training\n",
    "In the training phase, the input data is a batch of patch pairs: X = {(patch_a, patch_p)}, which represents the anchor patch and the positive patch, respectively. \n",
    "\n",
    "---"
   ]
  },
  {
   "cell_type": "code",
   "execution_count": 6,
   "metadata": {},
   "outputs": [
    {
     "name": "stdout",
     "output_type": "stream",
     "text": [
      "In training and validation, each data entry generates 3 elements: anchor, positive, and negative.\n",
      "Each of them have the size of: torch.Size([32, 1, 32, 32])\n",
      "Below we show in each column one triplet: top row shows patch a; mid row shows patch p; and bot row shows patch n.\n"
     ]
    },
    {
     "data": {
      "image/png": "[encoded data removed]",
      "text/plain": [
       "<Figure size 864x576 with 9 Axes>"
      ]
     },
     "metadata": {
      "needs_background": "light"
     },
     "output_type": "display_data"
    }
   ],
   "source": [
    "def plot_examples(sample_batched, n_samples=3, labels=['A', 'P', 'N']):\n",
    "    \n",
    "    cols = ['Sample {}'.format(col) for col in range(0, n_samples)]\n",
    "    rows = ['Patch {}'.format(row) for row in labels]\n",
    "    nrow = len(rows)\n",
    "    \n",
    "    fig, axes = plt.subplots(nrows=len(rows), ncols=n_samples, figsize=(12, 8))\n",
    "    for ax, col in zip(axes[0], cols):\n",
    "        ax.set_title(col)\n",
    "\n",
    "    for ax, row in zip(axes[:,0], rows):\n",
    "        ax.set_ylabel(row, rotation=90, size='large')\n",
    "\n",
    "#     for idx, img_tensor in enumerate(sample_batched):\n",
    "    for idx in range(nrow):\n",
    "        img_tensor = sample_batched[idx]\n",
    "        for jdx in range(n_samples):\n",
    "            img = img_tensor[jdx, 0]\n",
    "            axes[idx][jdx].imshow(img, cmap='gray')\n",
    "\n",
    "    fig.tight_layout()\n",
    "    plt.show()\n",
    "\n",
    "for i_batch, sample_batched in enumerate(train_loader):\n",
    "    print(\"In training and validation, each data entry generates {} elements: anchor, positive, and negative.\".format(len(sample_batched)))\n",
    "    print(\"Each of them have the size of: {}\".format(sample_batched[0].shape))\n",
    "    print(\"Below we show in each column one triplet: top row shows patch a; mid row shows patch p; and bot row shows patch n.\")\n",
    "          \n",
    "    if i_batch == 0:\n",
    "        plot_examples(sample_batched, 3)\n",
    "        break\n",
    "\n"
   ]
  },
  {
   "cell_type": "markdown",
   "metadata": {},
   "source": [
    "---\n",
    "---\n",
    "<a id='build_network_cell'></a>\n",
    "## Build an exmaple deep network  \n",
    "\n",
    "In this section, we will:\n",
    "#### 1. [Build the deep network: DesNet](#build_desNet_cell)\n",
    "#### 2. [Setup optimization](#set_opt_cell)\n",
    "\n",
    "[BackToTop](#top_cell)\n",
    "\n",
    "---"
   ]
  },
  {
   "cell_type": "markdown",
   "metadata": {},
   "source": [
    "<a id='build_desNet_cell'></a>\n",
    "### Build the deep network: DesNet\n",
    "The DesNet is a simple CNN network, which only contains two CNN blocks.\n",
    "\n",
    "\n",
    "[BackToSection](#build_network_cell)"
   ]
  },
  {
   "cell_type": "code",
   "execution_count": 7,
   "metadata": {},
   "outputs": [
    {
     "name": "stdout",
     "output_type": "stream",
     "text": [
      "DesNet(\n",
      "  (features): Sequential(\n",
      "    (0): Conv2d(1, 32, kernel_size=(3, 3), stride=(2, 2), padding=(1, 1), bias=False)\n",
      "    (1): BatchNorm2d(32, eps=1e-05, momentum=0.1, affine=False, track_running_stats=True)\n",
      "    (2): ReLU()\n",
      "    (3): Conv2d(32, 32, kernel_size=(3, 3), stride=(1, 1), padding=(1, 1), bias=False)\n",
      "    (4): BatchNorm2d(32, eps=1e-05, momentum=0.1, affine=False, track_running_stats=True)\n",
      "    (5): ReLU()\n",
      "    (6): Conv2d(32, 64, kernel_size=(3, 3), stride=(1, 1), padding=(1, 1), bias=False)\n",
      "    (7): BatchNorm2d(64, eps=1e-05, momentum=0.1, affine=False, track_running_stats=True)\n",
      "    (8): ReLU()\n",
      "    (9): Conv2d(64, 64, kernel_size=(3, 3), stride=(1, 1), padding=(1, 1), bias=False)\n",
      "    (10): BatchNorm2d(64, eps=1e-05, momentum=0.1, affine=False, track_running_stats=True)\n",
      "    (11): ReLU()\n",
      "    (12): Conv2d(64, 96, kernel_size=(3, 3), stride=(1, 1), padding=(1, 1), bias=False)\n",
      "    (13): BatchNorm2d(96, eps=1e-05, momentum=0.1, affine=False, track_running_stats=True)\n",
      "    (14): ReLU()\n",
      "    (15): Dropout(p=0.25, inplace=False)\n",
      "    (16): Conv2d(96, 96, kernel_size=(3, 3), stride=(1, 1), padding=(1, 1), bias=False)\n",
      "    (17): BatchNorm2d(96, eps=1e-05, momentum=0.1, affine=False, track_running_stats=True)\n",
      "    (18): ReLU()\n",
      "    (19): Dropout(p=0.3, inplace=False)\n",
      "    (20): Conv2d(96, 128, kernel_size=(3, 3), stride=(2, 2), padding=(1, 1), bias=False)\n",
      "    (21): BatchNorm2d(128, eps=1e-05, momentum=0.1, affine=False, track_running_stats=True)\n",
      "    (22): ReLU()\n",
      "    (23): Dropout(p=0.5, inplace=False)\n",
      "    (24): Conv2d(128, 128, kernel_size=(8, 8), stride=(1, 1), bias=False)\n",
      "    (25): BatchNorm2d(128, eps=1e-05, momentum=0.1, affine=False, track_running_stats=True)\n",
      "  )\n",
      ")\n"
     ]
    }
   ],
   "source": [
    "# load network from the python file. You need to submit these .py files to TA\n",
    "#from CNN1 import DesNet       # uncomment this line if you are using DesNet from CNN1.py\n",
    "#from CNN2 import DesNet      # uncomment this line if you are using DesNet from CNN2.py\n",
    "from CNN3 import DesNet      # uncomment this line if you are using DesNet from CNN3.py\n",
    "\n",
    "model = DesNet()\n",
    "# check model architecture\n",
    "\n",
    "print(model)\n",
    "\n",
    "if args.cuda:\n",
    "    model.cuda()"
   ]
  },
  {
   "cell_type": "markdown",
   "metadata": {},
   "source": [
    "<a id='set_opt_cell'></a>\n",
    "### Define optimization\n",
    "We will use SGD, but you can change it to ADAM by modifying arg.lr in config_profile.py\n",
    "\n",
    "[BackToSection](#build_network_cell)"
   ]
  },
  {
   "cell_type": "code",
   "execution_count": 8,
   "metadata": {},
   "outputs": [],
   "source": [
    "# define optimizer\n",
    "def create_optimizer(model, new_lr):\n",
    "    # setup optimizer\n",
    "    if args.optimizer == 'sgd':\n",
    "        optimizer = optim.SGD(model.parameters(), lr=new_lr,\n",
    "                              momentum=0.9, dampening=0.9,\n",
    "                              weight_decay=args.wd)\n",
    "    else:\n",
    "        raise Exception('Not supported optimizer: {0}'.format(args.optimizer))\n",
    "    return optimizer\n",
    "optimizer1 = create_optimizer(model.features, args.lr)"
   ]
  },
  {
   "cell_type": "markdown",
   "metadata": {},
   "source": [
    "---\n",
    "---\n",
    "<a id='train_network_cell'></a>\n",
    "## train the deep network  \n",
    "In this section, we will:\n",
    "#### 1. [Define a training module](#define_train_module_cell)\n",
    "#### 2. [Define a testing module](#define_test_module_cell)\n",
    "#### 3. [Train and test on the validation data](#training_module_cell)\n",
    "\n",
    "[BackToTop](#top_cell)\n",
    "\n",
    "---"
   ]
  },
  {
   "cell_type": "markdown",
   "metadata": {},
   "source": [
    "<a id='define_train_module_cell'></a>\n",
    "### Define a training module\n",
    "\n",
    "[BackToSection](#train_network_cell)"
   ]
  },
  {
   "cell_type": "code",
   "execution_count": 9,
   "metadata": {},
   "outputs": [],
   "source": [
    "def train(train_loader, model, optimizer, epoch, logger, load_triplets  = False):      #Loss\n",
    "    # switch to train mode\n",
    "    loss_item = 0\n",
    "    model.train()\n",
    "    pbar = tqdm(enumerate(train_loader))\n",
    "    for batch_idx, data in pbar:\n",
    "        data_a, data_p, data_n = data\n",
    "        \n",
    "\n",
    "        if args.cuda:\n",
    "            data_a, data_p, data_n  = data_a.cuda(), data_p.cuda(), data_n.cuda()\n",
    "            out_a = model(data_a)\n",
    "            out_p = model(data_p)\n",
    "            out_n = model(data_n)\n",
    "        \n",
    "        loss = loss_DesNet(out_a, out_p, out_n, anchor_swap = False, margin = 1.0, loss_type = \"triplet_margin\")\n",
    "                \n",
    "        if args.decor:\n",
    "            loss += CorrelationPenaltyLoss()(out_a)\n",
    "            \n",
    "        if args.gor:\n",
    "            loss += args.alpha*global_orthogonal_regularization(out_a, out_n)\n",
    "            \n",
    "        optimizer.zero_grad()\n",
    "        loss.backward()\n",
    "        optimizer.step()\n",
    "        adjust_learning_rate(optimizer)\n",
    "        if batch_idx % args.log_interval == 0:\n",
    "            pbar.set_description(\n",
    "                'Train Epoch: {} [{}/{} ({:.0f}%)]\\tLoss: {:.6f}'.format(\n",
    "                    epoch, batch_idx * len(data_a), len(train_loader.dataset),\n",
    "                           100. * batch_idx / len(train_loader),\n",
    "                    loss.item()))\n",
    "            #print('loss:', loss.item())\n",
    "            \n",
    "            \n",
    "        loss_item = loss_item + loss.item()\n",
    "        \n",
    "    #print('total_loss:',loss_item )\n",
    "    #print('times:',len(train_loader) )\n",
    "    ave_loss = loss_item / len(train_loader)\n",
    "    print('ave_loss:', ave_loss)\n",
    "    all_aveloss.append(ave_loss)\n",
    "    \n",
    "    \n",
    "\n",
    "    if (args.enable_logging):\n",
    "        logger.log_value('loss', loss.item()).step()\n",
    "\n",
    "    try:\n",
    "        os.stat('{}{}'.format(args.model_dir,suffix))\n",
    "    except:\n",
    "        os.makedirs('{}{}'.format(args.model_dir,suffix))\n",
    "\n",
    "    torch.save({'epoch': epoch + 1, 'state_dict': model.state_dict()},\n",
    "               '{}{}/checkpoint_{}.pth'.format(args.model_dir,suffix,epoch))\n",
    "   \n",
    "    all_epoch.append(epoch)\n",
    "     \n",
    "    \n",
    "def adjust_learning_rate(optimizer):\n",
    "    \"\"\"Updates the learning rate given the learning rate decay.\n",
    "    The routine has been implemented according to the original Lua SGD optimizer\n",
    "    \"\"\"\n",
    "    for group in optimizer.param_groups:\n",
    "        if 'step' not in group:\n",
    "            group['step'] = 0.\n",
    "        else:\n",
    "            group['step'] += 1.\n",
    "        group['lr'] = args.lr * (\n",
    "        1.0 - float(group['step']) * float(args.batch_size) / (args.n_triplets * float(args.epochs)))\n",
    "    return"
   ]
  },
  {
   "cell_type": "markdown",
   "metadata": {},
   "source": [
    "<a id='define_test_module_cell'></a>\n",
    "### Define a testing module\n",
    "[BackToSection](#train_network_cell)"
   ]
  },
  {
   "cell_type": "code",
   "execution_count": 10,
   "metadata": {},
   "outputs": [],
   "source": [
    "def test(test_loader, model, epoch, logger, logger_test_name):   #Loss on validation\n",
    "    # switch to evaluate mode\n",
    "    model.eval()\n",
    "\n",
    "    losses = 0\n",
    "\n",
    "    pbar = tqdm(enumerate(test_loader))\n",
    "    \n",
    "    for batch_idx, data in pbar:\n",
    "        data_a, data_p, data_n = data\n",
    "        \n",
    "\n",
    "        if args.cuda:\n",
    "            data_a, data_p, data_n  = data_a.cuda(), data_p.cuda(), data_n.cuda()\n",
    "            out_a = model(data_a)\n",
    "            out_p = model(data_p)\n",
    "            out_n = model(data_n)\n",
    "        \n",
    "        loss = loss_DesNet(out_a, out_p, out_n, anchor_swap = False, margin = 1.0, loss_type = \"triplet_margin\")\n",
    "        losses = losses + loss.cpu().numpy()\n",
    "    ave_loss = losses/len(test_loader)\n",
    "    print('\\33[91mLoss on validation: {:.8f}\\n\\33[0m'.format(ave_loss))\n",
    "    all_vloss.append(ave_loss)\n",
    "\n",
    "    if (args.enable_logging):\n",
    "        logger.log_value(logger_test_name+' vloss', ave_loss)\n",
    "    return\n",
    "\n",
    "\n",
    "def ErrorRateAt95Recall(labels, scores):\n",
    "    distances = 1.0 / (scores + 1e-8)\n",
    "    recall_point = 0.95\n",
    "    labels = labels[np.argsort(distances)]\n",
    "    # Sliding threshold: get first index where recall >= recall_point. \n",
    "    # This is the index where the number of elements with label==1 below the threshold reaches a fraction of \n",
    "    # 'recall_point' of the total number of elements with label==1. \n",
    "    # (np.argmax returns the first occurrence of a '1' in a bool array). \n",
    "    threshold_index = np.argmax(np.cumsum(labels) >= recall_point * np.sum(labels)) \n",
    "\n",
    "    FP = np.sum(labels[:threshold_index] == 0) # Below threshold (i.e., labelled positive), but should be negative\n",
    "    TN = np.sum(labels[threshold_index:] == 0) # Above threshold (i.e., labelled negative), and should be negative\n",
    "    return float(FP) / float(FP + TN)"
   ]
  },
  {
   "cell_type": "markdown",
   "metadata": {},
   "source": [
    "<a id='training_module_cell'></a>\n",
    "### Training \n",
    "\n",
    "[BackToSection](#train_network_cell)"
   ]
  },
  {
   "cell_type": "code",
   "execution_count": 11,
   "metadata": {},
   "outputs": [
    {
     "name": "stderr",
     "output_type": "stream",
     "text": [
      "Train Epoch: 0 [99840/100000 (100%)]\tLoss: 0.381983: : 3125it [01:38, 31.79it/s]\n"
     ]
    },
    {
     "name": "stdout",
     "output_type": "stream",
     "text": [
      "ave_loss: 0.38197849207401274\n"
     ]
    },
    {
     "name": "stderr",
     "output_type": "stream",
     "text": [
      "98it [00:43,  2.25it/s]\n"
     ]
    },
    {
     "name": "stdout",
     "output_type": "stream",
     "text": [
      "\u001b[91mLoss on validation: 0.28725232\n",
      "\u001b[0m\n",
      "# Found cached data data/sets/liberty.pt\n"
     ]
    },
    {
     "name": "stderr",
     "output_type": "stream",
     "text": [
      "100%|██████████| 100000/100000 [00:01<00:00, 64555.38it/s]\n"
     ]
    },
    {
     "name": "stdout",
     "output_type": "stream",
     "text": [
      "# Found cached data data/sets/notredame.pt\n"
     ]
    },
    {
     "name": "stderr",
     "output_type": "stream",
     "text": [
      "100%|██████████| 100000/100000 [00:01<00:00, 59676.85it/s]\n",
      "Train Epoch: 1 [99840/100000 (100%)]\tLoss: 0.300182: : 3125it [01:34, 32.94it/s]\n"
     ]
    },
    {
     "name": "stdout",
     "output_type": "stream",
     "text": [
      "ave_loss: 0.33202793123722074\n"
     ]
    },
    {
     "name": "stderr",
     "output_type": "stream",
     "text": [
      "98it [00:42,  2.32it/s]\n"
     ]
    },
    {
     "name": "stdout",
     "output_type": "stream",
     "text": [
      "\u001b[91mLoss on validation: 0.31261391\n",
      "\u001b[0m\n",
      "# Found cached data data/sets/liberty.pt\n"
     ]
    },
    {
     "name": "stderr",
     "output_type": "stream",
     "text": [
      "100%|██████████| 100000/100000 [00:01<00:00, 64551.39it/s]\n"
     ]
    },
    {
     "name": "stdout",
     "output_type": "stream",
     "text": [
      "# Found cached data data/sets/notredame.pt\n"
     ]
    },
    {
     "name": "stderr",
     "output_type": "stream",
     "text": [
      "100%|██████████| 100000/100000 [00:01<00:00, 61077.42it/s]\n",
      "Train Epoch: 2 [99840/100000 (100%)]\tLoss: 0.437191: : 3125it [01:34, 33.16it/s]\n"
     ]
    },
    {
     "name": "stdout",
     "output_type": "stream",
     "text": [
      "ave_loss: 0.318922604906559\n"
     ]
    },
    {
     "name": "stderr",
     "output_type": "stream",
     "text": [
      "98it [00:42,  2.29it/s]\n"
     ]
    },
    {
     "name": "stdout",
     "output_type": "stream",
     "text": [
      "\u001b[91mLoss on validation: 0.29300233\n",
      "\u001b[0m\n",
      "# Found cached data data/sets/liberty.pt\n"
     ]
    },
    {
     "name": "stderr",
     "output_type": "stream",
     "text": [
      "100%|██████████| 100000/100000 [00:01<00:00, 64935.56it/s]\n"
     ]
    },
    {
     "name": "stdout",
     "output_type": "stream",
     "text": [
      "# Found cached data data/sets/notredame.pt\n"
     ]
    },
    {
     "name": "stderr",
     "output_type": "stream",
     "text": [
      "100%|██████████| 100000/100000 [00:01<00:00, 61503.73it/s]\n",
      "Train Epoch: 3 [99840/100000 (100%)]\tLoss: 0.251653: : 3125it [01:33, 33.37it/s]\n"
     ]
    },
    {
     "name": "stdout",
     "output_type": "stream",
     "text": [
      "ave_loss: 0.306563486828804\n"
     ]
    },
    {
     "name": "stderr",
     "output_type": "stream",
     "text": [
      "98it [00:42,  2.30it/s]\n"
     ]
    },
    {
     "name": "stdout",
     "output_type": "stream",
     "text": [
      "\u001b[91mLoss on validation: 0.29285870\n",
      "\u001b[0m\n",
      "# Found cached data data/sets/liberty.pt\n"
     ]
    },
    {
     "name": "stderr",
     "output_type": "stream",
     "text": [
      "100%|██████████| 100000/100000 [00:01<00:00, 63892.07it/s]\n"
     ]
    },
    {
     "name": "stdout",
     "output_type": "stream",
     "text": [
      "# Found cached data data/sets/notredame.pt\n"
     ]
    },
    {
     "name": "stderr",
     "output_type": "stream",
     "text": [
      "100%|██████████| 100000/100000 [00:01<00:00, 57124.93it/s]\n",
      "Train Epoch: 4 [99840/100000 (100%)]\tLoss: 0.155652: : 3125it [01:34, 33.12it/s]\n"
     ]
    },
    {
     "name": "stdout",
     "output_type": "stream",
     "text": [
      "ave_loss: 0.28963429572820665\n"
     ]
    },
    {
     "name": "stderr",
     "output_type": "stream",
     "text": [
      "98it [00:43,  2.27it/s]\n"
     ]
    },
    {
     "name": "stdout",
     "output_type": "stream",
     "text": [
      "\u001b[91mLoss on validation: 0.28751215\n",
      "\u001b[0m\n",
      "# Found cached data data/sets/liberty.pt\n"
     ]
    },
    {
     "name": "stderr",
     "output_type": "stream",
     "text": [
      "100%|██████████| 100000/100000 [00:01<00:00, 63991.01it/s]\n"
     ]
    },
    {
     "name": "stdout",
     "output_type": "stream",
     "text": [
      "# Found cached data data/sets/notredame.pt\n"
     ]
    },
    {
     "name": "stderr",
     "output_type": "stream",
     "text": [
      "100%|██████████| 100000/100000 [00:01<00:00, 61132.23it/s]\n",
      "Train Epoch: 5 [99840/100000 (100%)]\tLoss: 0.243228: : 3125it [01:33, 33.33it/s]\n"
     ]
    },
    {
     "name": "stdout",
     "output_type": "stream",
     "text": [
      "ave_loss: 0.28057940925121305\n"
     ]
    },
    {
     "name": "stderr",
     "output_type": "stream",
     "text": [
      "98it [00:43,  2.26it/s]\n"
     ]
    },
    {
     "name": "stdout",
     "output_type": "stream",
     "text": [
      "\u001b[91mLoss on validation: 0.27892809\n",
      "\u001b[0m\n",
      "# Found cached data data/sets/liberty.pt\n"
     ]
    },
    {
     "name": "stderr",
     "output_type": "stream",
     "text": [
      "100%|██████████| 100000/100000 [00:01<00:00, 64372.31it/s]\n"
     ]
    },
    {
     "name": "stdout",
     "output_type": "stream",
     "text": [
      "# Found cached data data/sets/notredame.pt\n"
     ]
    },
    {
     "name": "stderr",
     "output_type": "stream",
     "text": [
      "100%|██████████| 100000/100000 [00:01<00:00, 61508.60it/s]\n",
      "Train Epoch: 6 [99840/100000 (100%)]\tLoss: 0.273447: : 3125it [01:32, 33.72it/s]\n"
     ]
    },
    {
     "name": "stdout",
     "output_type": "stream",
     "text": [
      "ave_loss: 0.2727759683322907\n"
     ]
    },
    {
     "name": "stderr",
     "output_type": "stream",
     "text": [
      "98it [00:42,  2.28it/s]\n"
     ]
    },
    {
     "name": "stdout",
     "output_type": "stream",
     "text": [
      "\u001b[91mLoss on validation: 0.27594451\n",
      "\u001b[0m\n",
      "# Found cached data data/sets/liberty.pt\n"
     ]
    },
    {
     "name": "stderr",
     "output_type": "stream",
     "text": [
      "100%|██████████| 100000/100000 [00:01<00:00, 64177.35it/s]\n"
     ]
    },
    {
     "name": "stdout",
     "output_type": "stream",
     "text": [
      "# Found cached data data/sets/notredame.pt\n"
     ]
    },
    {
     "name": "stderr",
     "output_type": "stream",
     "text": [
      "100%|██████████| 100000/100000 [00:01<00:00, 59150.42it/s]\n",
      "Train Epoch: 7 [99840/100000 (100%)]\tLoss: 0.303738: : 3125it [01:34, 33.07it/s]\n"
     ]
    },
    {
     "name": "stdout",
     "output_type": "stream",
     "text": [
      "ave_loss: 0.2708574397158623\n"
     ]
    },
    {
     "name": "stderr",
     "output_type": "stream",
     "text": [
      "98it [00:44,  2.20it/s]\n"
     ]
    },
    {
     "name": "stdout",
     "output_type": "stream",
     "text": [
      "\u001b[91mLoss on validation: 0.27958200\n",
      "\u001b[0m\n",
      "# Found cached data data/sets/liberty.pt\n"
     ]
    },
    {
     "name": "stderr",
     "output_type": "stream",
     "text": [
      "100%|██████████| 100000/100000 [00:01<00:00, 57118.69it/s]\n"
     ]
    },
    {
     "name": "stdout",
     "output_type": "stream",
     "text": [
      "# Found cached data data/sets/notredame.pt\n"
     ]
    },
    {
     "name": "stderr",
     "output_type": "stream",
     "text": [
      "100%|██████████| 100000/100000 [00:01<00:00, 53462.73it/s]\n",
      "Train Epoch: 8 [99840/100000 (100%)]\tLoss: 0.150301: : 3125it [01:39, 31.48it/s]\n"
     ]
    },
    {
     "name": "stdout",
     "output_type": "stream",
     "text": [
      "ave_loss: 0.2658605541443825\n"
     ]
    },
    {
     "name": "stderr",
     "output_type": "stream",
     "text": [
      "98it [00:41,  2.34it/s]\n"
     ]
    },
    {
     "name": "stdout",
     "output_type": "stream",
     "text": [
      "\u001b[91mLoss on validation: 0.27201380\n",
      "\u001b[0m\n",
      "# Found cached data data/sets/liberty.pt\n"
     ]
    },
    {
     "name": "stderr",
     "output_type": "stream",
     "text": [
      "100%|██████████| 100000/100000 [00:01<00:00, 62882.03it/s]\n"
     ]
    },
    {
     "name": "stdout",
     "output_type": "stream",
     "text": [
      "# Found cached data data/sets/notredame.pt\n"
     ]
    },
    {
     "name": "stderr",
     "output_type": "stream",
     "text": [
      "100%|██████████| 100000/100000 [00:01<00:00, 60000.82it/s]\n",
      "Train Epoch: 9 [99840/100000 (100%)]\tLoss: 0.268860: : 3125it [01:31, 34.14it/s]\n"
     ]
    },
    {
     "name": "stdout",
     "output_type": "stream",
     "text": [
      "ave_loss: 0.2633916282939911\n"
     ]
    },
    {
     "name": "stderr",
     "output_type": "stream",
     "text": [
      "98it [00:41,  2.36it/s]\n"
     ]
    },
    {
     "name": "stdout",
     "output_type": "stream",
     "text": [
      "\u001b[91mLoss on validation: 0.27860408\n",
      "\u001b[0m\n",
      "# Found cached data data/sets/liberty.pt\n"
     ]
    },
    {
     "name": "stderr",
     "output_type": "stream",
     "text": [
      "100%|██████████| 100000/100000 [00:01<00:00, 65886.09it/s]\n"
     ]
    },
    {
     "name": "stdout",
     "output_type": "stream",
     "text": [
      "# Found cached data data/sets/notredame.pt\n"
     ]
    },
    {
     "name": "stderr",
     "output_type": "stream",
     "text": [
      "100%|██████████| 100000/100000 [00:01<00:00, 63130.41it/s]\n",
      "Train Epoch: 10 [99840/100000 (100%)]\tLoss: 0.213009: : 3125it [01:33, 33.40it/s]\n"
     ]
    },
    {
     "name": "stdout",
     "output_type": "stream",
     "text": [
      "ave_loss: 0.2592742396068573\n"
     ]
    },
    {
     "name": "stderr",
     "output_type": "stream",
     "text": [
      "98it [00:41,  2.35it/s]\n"
     ]
    },
    {
     "name": "stdout",
     "output_type": "stream",
     "text": [
      "\u001b[91mLoss on validation: 0.27645970\n",
      "\u001b[0m\n",
      "# Found cached data data/sets/liberty.pt\n"
     ]
    },
    {
     "name": "stderr",
     "output_type": "stream",
     "text": [
      "100%|██████████| 100000/100000 [00:01<00:00, 65189.35it/s]\n"
     ]
    },
    {
     "name": "stdout",
     "output_type": "stream",
     "text": [
      "# Found cached data data/sets/notredame.pt\n"
     ]
    },
    {
     "name": "stderr",
     "output_type": "stream",
     "text": [
      "100%|██████████| 100000/100000 [00:01<00:00, 60158.00it/s]\n",
      "Train Epoch: 11 [99840/100000 (100%)]\tLoss: 0.368976: : 3125it [01:32, 33.75it/s]\n"
     ]
    },
    {
     "name": "stdout",
     "output_type": "stream",
     "text": [
      "ave_loss: 0.25566112244844436\n"
     ]
    },
    {
     "name": "stderr",
     "output_type": "stream",
     "text": [
      "98it [00:42,  2.32it/s]\n"
     ]
    },
    {
     "name": "stdout",
     "output_type": "stream",
     "text": [
      "\u001b[91mLoss on validation: 0.26484685\n",
      "\u001b[0m\n",
      "# Found cached data data/sets/liberty.pt\n"
     ]
    },
    {
     "name": "stderr",
     "output_type": "stream",
     "text": [
      "100%|██████████| 100000/100000 [00:01<00:00, 63180.53it/s]\n"
     ]
    },
    {
     "name": "stdout",
     "output_type": "stream",
     "text": [
      "# Found cached data data/sets/notredame.pt\n"
     ]
    },
    {
     "name": "stderr",
     "output_type": "stream",
     "text": [
      "100%|██████████| 100000/100000 [00:01<00:00, 61561.68it/s]\n",
      "Train Epoch: 12 [99840/100000 (100%)]\tLoss: 0.284492: : 3125it [01:35, 32.69it/s]\n"
     ]
    },
    {
     "name": "stdout",
     "output_type": "stream",
     "text": [
      "ave_loss: 0.25432900408744813\n"
     ]
    },
    {
     "name": "stderr",
     "output_type": "stream",
     "text": [
      "98it [00:42,  2.33it/s]\n"
     ]
    },
    {
     "name": "stdout",
     "output_type": "stream",
     "text": [
      "\u001b[91mLoss on validation: 0.26894524\n",
      "\u001b[0m\n",
      "# Found cached data data/sets/liberty.pt\n"
     ]
    },
    {
     "name": "stderr",
     "output_type": "stream",
     "text": [
      "100%|██████████| 100000/100000 [00:01<00:00, 63038.99it/s]\n"
     ]
    },
    {
     "name": "stdout",
     "output_type": "stream",
     "text": [
      "# Found cached data data/sets/notredame.pt\n"
     ]
    },
    {
     "name": "stderr",
     "output_type": "stream",
     "text": [
      "100%|██████████| 100000/100000 [00:01<00:00, 59004.21it/s]\n",
      "Train Epoch: 13 [99840/100000 (100%)]\tLoss: 0.235388: : 3125it [01:36, 32.49it/s]\n"
     ]
    },
    {
     "name": "stdout",
     "output_type": "stream",
     "text": [
      "ave_loss: 0.25014324797153475\n"
     ]
    },
    {
     "name": "stderr",
     "output_type": "stream",
     "text": [
      "98it [00:42,  2.32it/s]\n"
     ]
    },
    {
     "name": "stdout",
     "output_type": "stream",
     "text": [
      "\u001b[91mLoss on validation: 0.27291425\n",
      "\u001b[0m\n",
      "# Found cached data data/sets/liberty.pt\n"
     ]
    },
    {
     "name": "stderr",
     "output_type": "stream",
     "text": [
      "100%|██████████| 100000/100000 [00:01<00:00, 64890.81it/s]\n"
     ]
    },
    {
     "name": "stdout",
     "output_type": "stream",
     "text": [
      "# Found cached data data/sets/notredame.pt\n"
     ]
    },
    {
     "name": "stderr",
     "output_type": "stream",
     "text": [
      "100%|██████████| 100000/100000 [00:01<00:00, 62834.80it/s]\n",
      "Train Epoch: 14 [99840/100000 (100%)]\tLoss: 0.257453: : 3125it [01:35, 32.79it/s]\n"
     ]
    },
    {
     "name": "stdout",
     "output_type": "stream",
     "text": [
      "ave_loss: 0.24491660046339034\n"
     ]
    },
    {
     "name": "stderr",
     "output_type": "stream",
     "text": [
      "98it [00:42,  2.33it/s]\n"
     ]
    },
    {
     "name": "stdout",
     "output_type": "stream",
     "text": [
      "\u001b[91mLoss on validation: 0.28044749\n",
      "\u001b[0m\n",
      "# Found cached data data/sets/liberty.pt\n"
     ]
    },
    {
     "name": "stderr",
     "output_type": "stream",
     "text": [
      "100%|██████████| 100000/100000 [00:01<00:00, 62498.19it/s]\n"
     ]
    },
    {
     "name": "stdout",
     "output_type": "stream",
     "text": [
      "# Found cached data data/sets/notredame.pt\n"
     ]
    },
    {
     "name": "stderr",
     "output_type": "stream",
     "text": [
      "100%|██████████| 100000/100000 [00:01<00:00, 60528.52it/s]\n",
      "Train Epoch: 15 [99840/100000 (100%)]\tLoss: 0.256197: : 3125it [01:32, 33.95it/s]\n"
     ]
    },
    {
     "name": "stdout",
     "output_type": "stream",
     "text": [
      "ave_loss: 0.23933690375566483\n"
     ]
    },
    {
     "name": "stderr",
     "output_type": "stream",
     "text": [
      "98it [00:41,  2.34it/s]\n"
     ]
    },
    {
     "name": "stdout",
     "output_type": "stream",
     "text": [
      "\u001b[91mLoss on validation: 0.26854551\n",
      "\u001b[0m\n",
      "# Found cached data data/sets/liberty.pt\n"
     ]
    },
    {
     "name": "stderr",
     "output_type": "stream",
     "text": [
      "100%|██████████| 100000/100000 [00:01<00:00, 64219.40it/s]\n"
     ]
    },
    {
     "name": "stdout",
     "output_type": "stream",
     "text": [
      "# Found cached data data/sets/notredame.pt\n"
     ]
    },
    {
     "name": "stderr",
     "output_type": "stream",
     "text": [
      "100%|██████████| 100000/100000 [00:01<00:00, 62310.95it/s]\n",
      "Train Epoch: 16 [99840/100000 (100%)]\tLoss: 0.230694: : 3125it [01:31, 34.17it/s]\n"
     ]
    },
    {
     "name": "stdout",
     "output_type": "stream",
     "text": [
      "ave_loss: 0.23712341762781144\n"
     ]
    },
    {
     "name": "stderr",
     "output_type": "stream",
     "text": [
      "98it [00:42,  2.33it/s]\n"
     ]
    },
    {
     "name": "stdout",
     "output_type": "stream",
     "text": [
      "\u001b[91mLoss on validation: 0.25924343\n",
      "\u001b[0m\n",
      "# Found cached data data/sets/liberty.pt\n"
     ]
    },
    {
     "name": "stderr",
     "output_type": "stream",
     "text": [
      "100%|██████████| 100000/100000 [00:01<00:00, 64485.04it/s]\n"
     ]
    },
    {
     "name": "stdout",
     "output_type": "stream",
     "text": [
      "# Found cached data data/sets/notredame.pt\n"
     ]
    },
    {
     "name": "stderr",
     "output_type": "stream",
     "text": [
      "100%|██████████| 100000/100000 [00:01<00:00, 61268.46it/s]\n",
      "Train Epoch: 17 [99840/100000 (100%)]\tLoss: 0.176592: : 3125it [01:33, 33.40it/s]\n"
     ]
    },
    {
     "name": "stdout",
     "output_type": "stream",
     "text": [
      "ave_loss: 0.23284473556995391\n"
     ]
    },
    {
     "name": "stderr",
     "output_type": "stream",
     "text": [
      "98it [00:42,  2.32it/s]\n"
     ]
    },
    {
     "name": "stdout",
     "output_type": "stream",
     "text": [
      "\u001b[91mLoss on validation: 0.26759835\n",
      "\u001b[0m\n",
      "# Found cached data data/sets/liberty.pt\n"
     ]
    },
    {
     "name": "stderr",
     "output_type": "stream",
     "text": [
      "100%|██████████| 100000/100000 [00:01<00:00, 63505.26it/s]\n"
     ]
    },
    {
     "name": "stdout",
     "output_type": "stream",
     "text": [
      "# Found cached data data/sets/notredame.pt\n"
     ]
    },
    {
     "name": "stderr",
     "output_type": "stream",
     "text": [
      "100%|██████████| 100000/100000 [00:01<00:00, 59193.98it/s]\n",
      "Train Epoch: 18 [99840/100000 (100%)]\tLoss: 0.342152: : 3125it [01:32, 33.71it/s]\n"
     ]
    },
    {
     "name": "stdout",
     "output_type": "stream",
     "text": [
      "ave_loss: 0.2311421190738678\n"
     ]
    },
    {
     "name": "stderr",
     "output_type": "stream",
     "text": [
      "98it [00:43,  2.26it/s]\n"
     ]
    },
    {
     "name": "stdout",
     "output_type": "stream",
     "text": [
      "\u001b[91mLoss on validation: 0.26079869\n",
      "\u001b[0m\n",
      "# Found cached data data/sets/liberty.pt\n"
     ]
    },
    {
     "name": "stderr",
     "output_type": "stream",
     "text": [
      "100%|██████████| 100000/100000 [00:01<00:00, 54902.72it/s]\n"
     ]
    },
    {
     "name": "stdout",
     "output_type": "stream",
     "text": [
      "# Found cached data data/sets/notredame.pt\n"
     ]
    },
    {
     "name": "stderr",
     "output_type": "stream",
     "text": [
      "100%|██████████| 100000/100000 [00:01<00:00, 52254.19it/s]\n",
      "Train Epoch: 19 [99840/100000 (100%)]\tLoss: 0.151592: : 3125it [01:31, 34.31it/s]\n"
     ]
    },
    {
     "name": "stdout",
     "output_type": "stream",
     "text": [
      "ave_loss: 0.22950921633958818\n"
     ]
    },
    {
     "name": "stderr",
     "output_type": "stream",
     "text": [
      "98it [00:42,  2.28it/s]\n"
     ]
    },
    {
     "name": "stdout",
     "output_type": "stream",
     "text": [
      "\u001b[91mLoss on validation: 0.25568042\n",
      "\u001b[0m\n",
      "# Found cached data data/sets/liberty.pt\n"
     ]
    },
    {
     "name": "stderr",
     "output_type": "stream",
     "text": [
      "100%|██████████| 100000/100000 [00:01<00:00, 56891.87it/s]\n"
     ]
    },
    {
     "name": "stdout",
     "output_type": "stream",
     "text": [
      "# Found cached data data/sets/notredame.pt\n"
     ]
    },
    {
     "name": "stderr",
     "output_type": "stream",
     "text": [
      "100%|██████████| 100000/100000 [00:01<00:00, 50770.43it/s]\n",
      "Train Epoch: 20 [99840/100000 (100%)]\tLoss: 0.194231: : 3125it [01:45, 29.64it/s]\n"
     ]
    },
    {
     "name": "stdout",
     "output_type": "stream",
     "text": [
      "ave_loss: 0.2247313382458687\n"
     ]
    },
    {
     "name": "stderr",
     "output_type": "stream",
     "text": [
      "98it [00:51,  1.89it/s]\n"
     ]
    },
    {
     "name": "stdout",
     "output_type": "stream",
     "text": [
      "\u001b[91mLoss on validation: 0.25737370\n",
      "\u001b[0m\n",
      "# Found cached data data/sets/liberty.pt\n"
     ]
    },
    {
     "name": "stderr",
     "output_type": "stream",
     "text": [
      "100%|██████████| 100000/100000 [00:01<00:00, 55590.32it/s]\n"
     ]
    },
    {
     "name": "stdout",
     "output_type": "stream",
     "text": [
      "# Found cached data data/sets/notredame.pt\n"
     ]
    },
    {
     "name": "stderr",
     "output_type": "stream",
     "text": [
      "100%|██████████| 100000/100000 [00:01<00:00, 55006.55it/s]\n",
      "Train Epoch: 21 [99840/100000 (100%)]\tLoss: 0.233137: : 3125it [01:48, 28.70it/s]\n"
     ]
    },
    {
     "name": "stdout",
     "output_type": "stream",
     "text": [
      "ave_loss: 0.2222505121898651\n"
     ]
    },
    {
     "name": "stderr",
     "output_type": "stream",
     "text": [
      "98it [00:43,  2.27it/s]\n"
     ]
    },
    {
     "name": "stdout",
     "output_type": "stream",
     "text": [
      "\u001b[91mLoss on validation: 0.25693784\n",
      "\u001b[0m\n",
      "# Found cached data data/sets/liberty.pt\n"
     ]
    },
    {
     "name": "stderr",
     "output_type": "stream",
     "text": [
      "100%|██████████| 100000/100000 [00:01<00:00, 64055.06it/s]\n"
     ]
    },
    {
     "name": "stdout",
     "output_type": "stream",
     "text": [
      "# Found cached data data/sets/notredame.pt\n"
     ]
    },
    {
     "name": "stderr",
     "output_type": "stream",
     "text": [
      "100%|██████████| 100000/100000 [00:01<00:00, 61724.11it/s]\n",
      "Train Epoch: 22 [99840/100000 (100%)]\tLoss: 0.300783: : 3125it [01:35, 32.62it/s]\n"
     ]
    },
    {
     "name": "stdout",
     "output_type": "stream",
     "text": [
      "ave_loss: 0.21989015120267869\n"
     ]
    },
    {
     "name": "stderr",
     "output_type": "stream",
     "text": [
      "98it [00:42,  2.33it/s]\n"
     ]
    },
    {
     "name": "stdout",
     "output_type": "stream",
     "text": [
      "\u001b[91mLoss on validation: 0.24958652\n",
      "\u001b[0m\n",
      "# Found cached data data/sets/liberty.pt\n"
     ]
    },
    {
     "name": "stderr",
     "output_type": "stream",
     "text": [
      "100%|██████████| 100000/100000 [00:01<00:00, 64814.40it/s]\n"
     ]
    },
    {
     "name": "stdout",
     "output_type": "stream",
     "text": [
      "# Found cached data data/sets/notredame.pt\n"
     ]
    },
    {
     "name": "stderr",
     "output_type": "stream",
     "text": [
      "100%|██████████| 100000/100000 [00:01<00:00, 61350.60it/s]\n",
      "Train Epoch: 23 [99840/100000 (100%)]\tLoss: 0.207704: : 3125it [01:34, 33.02it/s]\n"
     ]
    },
    {
     "name": "stdout",
     "output_type": "stream",
     "text": [
      "ave_loss: 0.21900237015724183\n"
     ]
    },
    {
     "name": "stderr",
     "output_type": "stream",
     "text": [
      "98it [00:42,  2.31it/s]\n"
     ]
    },
    {
     "name": "stdout",
     "output_type": "stream",
     "text": [
      "\u001b[91mLoss on validation: 0.24396478\n",
      "\u001b[0m\n",
      "# Found cached data data/sets/liberty.pt\n"
     ]
    },
    {
     "name": "stderr",
     "output_type": "stream",
     "text": [
      "100%|██████████| 100000/100000 [00:01<00:00, 64941.44it/s]\n"
     ]
    },
    {
     "name": "stdout",
     "output_type": "stream",
     "text": [
      "# Found cached data data/sets/notredame.pt\n"
     ]
    },
    {
     "name": "stderr",
     "output_type": "stream",
     "text": [
      "100%|██████████| 100000/100000 [00:01<00:00, 62647.35it/s]\n",
      "Train Epoch: 24 [99840/100000 (100%)]\tLoss: 0.183085: : 3125it [01:34, 33.23it/s]\n"
     ]
    },
    {
     "name": "stdout",
     "output_type": "stream",
     "text": [
      "ave_loss: 0.21540467124700546\n"
     ]
    },
    {
     "name": "stderr",
     "output_type": "stream",
     "text": [
      "98it [00:42,  2.33it/s]\n"
     ]
    },
    {
     "name": "stdout",
     "output_type": "stream",
     "text": [
      "\u001b[91mLoss on validation: 0.25227463\n",
      "\u001b[0m\n",
      "# Found cached data data/sets/liberty.pt\n"
     ]
    },
    {
     "name": "stderr",
     "output_type": "stream",
     "text": [
      "100%|██████████| 100000/100000 [00:01<00:00, 64499.82it/s]\n"
     ]
    },
    {
     "name": "stdout",
     "output_type": "stream",
     "text": [
      "# Found cached data data/sets/notredame.pt\n"
     ]
    },
    {
     "name": "stderr",
     "output_type": "stream",
     "text": [
      "100%|██████████| 100000/100000 [00:01<00:00, 59660.49it/s]\n",
      "Train Epoch: 25 [99840/100000 (100%)]\tLoss: 0.136525: : 3125it [01:32, 33.86it/s]\n"
     ]
    },
    {
     "name": "stdout",
     "output_type": "stream",
     "text": [
      "ave_loss: 0.21299760719656943\n"
     ]
    },
    {
     "name": "stderr",
     "output_type": "stream",
     "text": [
      "98it [00:41,  2.34it/s]\n"
     ]
    },
    {
     "name": "stdout",
     "output_type": "stream",
     "text": [
      "\u001b[91mLoss on validation: 0.25105197\n",
      "\u001b[0m\n",
      "# Found cached data data/sets/liberty.pt\n"
     ]
    },
    {
     "name": "stderr",
     "output_type": "stream",
     "text": [
      "100%|██████████| 100000/100000 [00:01<00:00, 64423.81it/s]\n"
     ]
    },
    {
     "name": "stdout",
     "output_type": "stream",
     "text": [
      "# Found cached data data/sets/notredame.pt\n"
     ]
    },
    {
     "name": "stderr",
     "output_type": "stream",
     "text": [
      "100%|██████████| 100000/100000 [00:01<00:00, 62289.25it/s]\n",
      "Train Epoch: 26 [99840/100000 (100%)]\tLoss: 0.356733: : 3125it [01:33, 33.54it/s]\n"
     ]
    },
    {
     "name": "stdout",
     "output_type": "stream",
     "text": [
      "ave_loss: 0.2119810683631897\n"
     ]
    },
    {
     "name": "stderr",
     "output_type": "stream",
     "text": [
      "98it [00:41,  2.34it/s]\n"
     ]
    },
    {
     "name": "stdout",
     "output_type": "stream",
     "text": [
      "\u001b[91mLoss on validation: 0.25476702\n",
      "\u001b[0m\n",
      "# Found cached data data/sets/liberty.pt\n"
     ]
    },
    {
     "name": "stderr",
     "output_type": "stream",
     "text": [
      "100%|██████████| 100000/100000 [00:01<00:00, 62702.51it/s]\n"
     ]
    },
    {
     "name": "stdout",
     "output_type": "stream",
     "text": [
      "# Found cached data data/sets/notredame.pt\n"
     ]
    },
    {
     "name": "stderr",
     "output_type": "stream",
     "text": [
      "100%|██████████| 100000/100000 [00:01<00:00, 61464.81it/s]\n",
      "Train Epoch: 27 [99840/100000 (100%)]\tLoss: 0.174300: : 3125it [01:31, 33.98it/s]\n"
     ]
    },
    {
     "name": "stdout",
     "output_type": "stream",
     "text": [
      "ave_loss: 0.2117344858419895\n"
     ]
    },
    {
     "name": "stderr",
     "output_type": "stream",
     "text": [
      "98it [00:42,  2.33it/s]\n"
     ]
    },
    {
     "name": "stdout",
     "output_type": "stream",
     "text": [
      "\u001b[91mLoss on validation: 0.25106265\n",
      "\u001b[0m\n",
      "# Found cached data data/sets/liberty.pt\n"
     ]
    },
    {
     "name": "stderr",
     "output_type": "stream",
     "text": [
      "100%|██████████| 100000/100000 [00:01<00:00, 65156.94it/s]\n"
     ]
    },
    {
     "name": "stdout",
     "output_type": "stream",
     "text": [
      "# Found cached data data/sets/notredame.pt\n"
     ]
    },
    {
     "name": "stderr",
     "output_type": "stream",
     "text": [
      "100%|██████████| 100000/100000 [00:01<00:00, 62550.43it/s]\n",
      "Train Epoch: 28 [99840/100000 (100%)]\tLoss: 0.223610: : 3125it [01:32, 33.66it/s]\n"
     ]
    },
    {
     "name": "stdout",
     "output_type": "stream",
     "text": [
      "ave_loss: 0.2090374957740307\n"
     ]
    },
    {
     "name": "stderr",
     "output_type": "stream",
     "text": [
      "98it [00:41,  2.34it/s]\n"
     ]
    },
    {
     "name": "stdout",
     "output_type": "stream",
     "text": [
      "\u001b[91mLoss on validation: 0.24935537\n",
      "\u001b[0m\n",
      "# Found cached data data/sets/liberty.pt\n"
     ]
    },
    {
     "name": "stderr",
     "output_type": "stream",
     "text": [
      "100%|██████████| 100000/100000 [00:01<00:00, 62283.82it/s]\n"
     ]
    },
    {
     "name": "stdout",
     "output_type": "stream",
     "text": [
      "# Found cached data data/sets/notredame.pt\n"
     ]
    },
    {
     "name": "stderr",
     "output_type": "stream",
     "text": [
      "100%|██████████| 100000/100000 [00:01<00:00, 62138.06it/s]\n",
      "Train Epoch: 29 [99840/100000 (100%)]\tLoss: 0.325316: : 3125it [01:32, 33.72it/s]\n"
     ]
    },
    {
     "name": "stdout",
     "output_type": "stream",
     "text": [
      "ave_loss: 0.20870134605169297\n"
     ]
    },
    {
     "name": "stderr",
     "output_type": "stream",
     "text": [
      "98it [00:41,  2.34it/s]\n"
     ]
    },
    {
     "name": "stdout",
     "output_type": "stream",
     "text": [
      "\u001b[91mLoss on validation: 0.25178523\n",
      "\u001b[0m\n",
      "# Found cached data data/sets/liberty.pt\n"
     ]
    },
    {
     "name": "stderr",
     "output_type": "stream",
     "text": [
      "100%|██████████| 100000/100000 [00:01<00:00, 64520.27it/s]\n"
     ]
    },
    {
     "name": "stdout",
     "output_type": "stream",
     "text": [
      "# Found cached data data/sets/notredame.pt\n"
     ]
    },
    {
     "name": "stderr",
     "output_type": "stream",
     "text": [
      "100%|██████████| 100000/100000 [00:01<00:00, 62446.11it/s]\n",
      "Train Epoch: 30 [99840/100000 (100%)]\tLoss: 0.180378: : 3125it [01:33, 33.59it/s]\n"
     ]
    },
    {
     "name": "stdout",
     "output_type": "stream",
     "text": [
      "ave_loss: 0.20660881603360176\n"
     ]
    },
    {
     "name": "stderr",
     "output_type": "stream",
     "text": [
      "98it [00:42,  2.32it/s]\n"
     ]
    },
    {
     "name": "stdout",
     "output_type": "stream",
     "text": [
      "\u001b[91mLoss on validation: 0.25324351\n",
      "\u001b[0m\n",
      "# Found cached data data/sets/liberty.pt\n"
     ]
    },
    {
     "name": "stderr",
     "output_type": "stream",
     "text": [
      "100%|██████████| 100000/100000 [00:01<00:00, 64859.29it/s]\n"
     ]
    },
    {
     "name": "stdout",
     "output_type": "stream",
     "text": [
      "# Found cached data data/sets/notredame.pt\n"
     ]
    },
    {
     "name": "stderr",
     "output_type": "stream",
     "text": [
      "100%|██████████| 100000/100000 [00:01<00:00, 59600.54it/s]\n",
      "Train Epoch: 31 [99840/100000 (100%)]\tLoss: 0.206768: : 3125it [01:32, 33.94it/s]\n"
     ]
    },
    {
     "name": "stdout",
     "output_type": "stream",
     "text": [
      "ave_loss: 0.20659646924734115\n"
     ]
    },
    {
     "name": "stderr",
     "output_type": "stream",
     "text": [
      "98it [00:42,  2.31it/s]\n"
     ]
    },
    {
     "name": "stdout",
     "output_type": "stream",
     "text": [
      "\u001b[91mLoss on validation: 0.25224012\n",
      "\u001b[0m\n",
      "# Found cached data data/sets/liberty.pt\n"
     ]
    },
    {
     "name": "stderr",
     "output_type": "stream",
     "text": [
      "100%|██████████| 100000/100000 [00:01<00:00, 64511.20it/s]\n"
     ]
    },
    {
     "name": "stdout",
     "output_type": "stream",
     "text": [
      "# Found cached data data/sets/notredame.pt\n"
     ]
    },
    {
     "name": "stderr",
     "output_type": "stream",
     "text": [
      "100%|██████████| 100000/100000 [00:01<00:00, 62148.37it/s]\n",
      "Train Epoch: 32 [99840/100000 (100%)]\tLoss: 0.218682: : 3125it [01:31, 34.05it/s]\n"
     ]
    },
    {
     "name": "stdout",
     "output_type": "stream",
     "text": [
      "ave_loss: 0.20452820397496224\n"
     ]
    },
    {
     "name": "stderr",
     "output_type": "stream",
     "text": [
      "98it [00:43,  2.27it/s]\n"
     ]
    },
    {
     "name": "stdout",
     "output_type": "stream",
     "text": [
      "\u001b[91mLoss on validation: 0.25104058\n",
      "\u001b[0m\n",
      "# Found cached data data/sets/liberty.pt\n"
     ]
    },
    {
     "name": "stderr",
     "output_type": "stream",
     "text": [
      "100%|██████████| 100000/100000 [00:01<00:00, 61513.24it/s]\n"
     ]
    },
    {
     "name": "stdout",
     "output_type": "stream",
     "text": [
      "# Found cached data data/sets/notredame.pt\n"
     ]
    },
    {
     "name": "stderr",
     "output_type": "stream",
     "text": [
      "100%|██████████| 100000/100000 [00:01<00:00, 61871.59it/s]\n",
      "Train Epoch: 33 [99840/100000 (100%)]\tLoss: 0.135796: : 3125it [01:31, 33.98it/s]\n"
     ]
    },
    {
     "name": "stdout",
     "output_type": "stream",
     "text": [
      "ave_loss: 0.2052405365014076\n"
     ]
    },
    {
     "name": "stderr",
     "output_type": "stream",
     "text": [
      "98it [00:45,  2.14it/s]\n"
     ]
    },
    {
     "name": "stdout",
     "output_type": "stream",
     "text": [
      "\u001b[91mLoss on validation: 0.25460293\n",
      "\u001b[0m\n",
      "# Found cached data data/sets/liberty.pt\n"
     ]
    },
    {
     "name": "stderr",
     "output_type": "stream",
     "text": [
      "100%|██████████| 100000/100000 [00:01<00:00, 65282.68it/s]\n"
     ]
    },
    {
     "name": "stdout",
     "output_type": "stream",
     "text": [
      "# Found cached data data/sets/notredame.pt\n"
     ]
    },
    {
     "name": "stderr",
     "output_type": "stream",
     "text": [
      "100%|██████████| 100000/100000 [00:01<00:00, 62626.66it/s]\n",
      "Train Epoch: 34 [99840/100000 (100%)]\tLoss: 0.249570: : 3125it [01:33, 33.33it/s]\n"
     ]
    },
    {
     "name": "stdout",
     "output_type": "stream",
     "text": [
      "ave_loss: 0.2029575262093544\n"
     ]
    },
    {
     "name": "stderr",
     "output_type": "stream",
     "text": [
      "98it [00:42,  2.33it/s]\n"
     ]
    },
    {
     "name": "stdout",
     "output_type": "stream",
     "text": [
      "\u001b[91mLoss on validation: 0.26114595\n",
      "\u001b[0m\n",
      "# Found cached data data/sets/liberty.pt\n"
     ]
    },
    {
     "name": "stderr",
     "output_type": "stream",
     "text": [
      "100%|██████████| 100000/100000 [00:01<00:00, 64118.85it/s]\n"
     ]
    },
    {
     "name": "stdout",
     "output_type": "stream",
     "text": [
      "# Found cached data data/sets/notredame.pt\n"
     ]
    },
    {
     "name": "stderr",
     "output_type": "stream",
     "text": [
      "100%|██████████| 100000/100000 [00:01<00:00, 61740.26it/s]\n",
      "Train Epoch: 35 [99840/100000 (100%)]\tLoss: 0.197294: : 3125it [01:32, 33.77it/s]\n"
     ]
    },
    {
     "name": "stdout",
     "output_type": "stream",
     "text": [
      "ave_loss: 0.20176960209608077\n"
     ]
    },
    {
     "name": "stderr",
     "output_type": "stream",
     "text": [
      "98it [00:41,  2.35it/s]\n"
     ]
    },
    {
     "name": "stdout",
     "output_type": "stream",
     "text": [
      "\u001b[91mLoss on validation: 0.24811328\n",
      "\u001b[0m\n",
      "# Found cached data data/sets/liberty.pt\n"
     ]
    },
    {
     "name": "stderr",
     "output_type": "stream",
     "text": [
      "100%|██████████| 100000/100000 [00:01<00:00, 64327.15it/s]\n"
     ]
    },
    {
     "name": "stdout",
     "output_type": "stream",
     "text": [
      "# Found cached data data/sets/notredame.pt\n"
     ]
    },
    {
     "name": "stderr",
     "output_type": "stream",
     "text": [
      "100%|██████████| 100000/100000 [00:01<00:00, 62060.80it/s]\n",
      "Train Epoch: 36 [99840/100000 (100%)]\tLoss: 0.192550: : 3125it [01:39, 31.44it/s]\n"
     ]
    },
    {
     "name": "stdout",
     "output_type": "stream",
     "text": [
      "ave_loss: 0.199925116032362\n"
     ]
    },
    {
     "name": "stderr",
     "output_type": "stream",
     "text": [
      "98it [00:42,  2.33it/s]\n"
     ]
    },
    {
     "name": "stdout",
     "output_type": "stream",
     "text": [
      "\u001b[91mLoss on validation: 0.25347734\n",
      "\u001b[0m\n",
      "# Found cached data data/sets/liberty.pt\n"
     ]
    },
    {
     "name": "stderr",
     "output_type": "stream",
     "text": [
      "100%|██████████| 100000/100000 [00:01<00:00, 60337.72it/s]\n"
     ]
    },
    {
     "name": "stdout",
     "output_type": "stream",
     "text": [
      "# Found cached data data/sets/notredame.pt\n"
     ]
    },
    {
     "name": "stderr",
     "output_type": "stream",
     "text": [
      "100%|██████████| 100000/100000 [00:01<00:00, 59256.65it/s]\n",
      "Train Epoch: 37 [99840/100000 (100%)]\tLoss: 0.142702: : 3125it [01:35, 32.76it/s]\n"
     ]
    },
    {
     "name": "stdout",
     "output_type": "stream",
     "text": [
      "ave_loss: 0.20119314696907997\n"
     ]
    },
    {
     "name": "stderr",
     "output_type": "stream",
     "text": [
      "98it [00:44,  2.20it/s]\n"
     ]
    },
    {
     "name": "stdout",
     "output_type": "stream",
     "text": [
      "\u001b[91mLoss on validation: 0.24790345\n",
      "\u001b[0m\n",
      "# Found cached data data/sets/liberty.pt\n"
     ]
    },
    {
     "name": "stderr",
     "output_type": "stream",
     "text": [
      "100%|██████████| 100000/100000 [00:01<00:00, 57005.28it/s]\n"
     ]
    },
    {
     "name": "stdout",
     "output_type": "stream",
     "text": [
      "# Found cached data data/sets/notredame.pt\n"
     ]
    },
    {
     "name": "stderr",
     "output_type": "stream",
     "text": [
      "100%|██████████| 100000/100000 [00:01<00:00, 55335.93it/s]\n",
      "Train Epoch: 38 [99840/100000 (100%)]\tLoss: 0.209146: : 3125it [01:30, 34.53it/s]\n"
     ]
    },
    {
     "name": "stdout",
     "output_type": "stream",
     "text": [
      "ave_loss: 0.19854113484740257\n"
     ]
    },
    {
     "name": "stderr",
     "output_type": "stream",
     "text": [
      "98it [00:41,  2.34it/s]\n"
     ]
    },
    {
     "name": "stdout",
     "output_type": "stream",
     "text": [
      "\u001b[91mLoss on validation: 0.24935682\n",
      "\u001b[0m\n",
      "# Found cached data data/sets/liberty.pt\n"
     ]
    },
    {
     "name": "stderr",
     "output_type": "stream",
     "text": [
      "100%|██████████| 100000/100000 [00:01<00:00, 61464.14it/s]\n"
     ]
    },
    {
     "name": "stdout",
     "output_type": "stream",
     "text": [
      "# Found cached data data/sets/notredame.pt\n"
     ]
    },
    {
     "name": "stderr",
     "output_type": "stream",
     "text": [
      "100%|██████████| 100000/100000 [00:01<00:00, 61473.09it/s]\n",
      "Train Epoch: 39 [99840/100000 (100%)]\tLoss: 0.158135: : 3125it [01:31, 34.07it/s]\n"
     ]
    },
    {
     "name": "stdout",
     "output_type": "stream",
     "text": [
      "ave_loss: 0.19709208837747574\n"
     ]
    },
    {
     "name": "stderr",
     "output_type": "stream",
     "text": [
      "98it [00:41,  2.34it/s]\n"
     ]
    },
    {
     "name": "stdout",
     "output_type": "stream",
     "text": [
      "\u001b[91mLoss on validation: 0.25484597\n",
      "\u001b[0m\n",
      "# Found cached data data/sets/liberty.pt\n"
     ]
    },
    {
     "name": "stderr",
     "output_type": "stream",
     "text": [
      "100%|██████████| 100000/100000 [00:01<00:00, 62552.22it/s]\n"
     ]
    },
    {
     "name": "stdout",
     "output_type": "stream",
     "text": [
      "# Found cached data data/sets/notredame.pt\n"
     ]
    },
    {
     "name": "stderr",
     "output_type": "stream",
     "text": [
      "100%|██████████| 100000/100000 [00:01<00:00, 61120.70it/s]\n",
      "Train Epoch: 40 [99840/100000 (100%)]\tLoss: 0.165627: : 3125it [01:30, 34.55it/s]\n"
     ]
    },
    {
     "name": "stdout",
     "output_type": "stream",
     "text": [
      "ave_loss: 0.19692391590118408\n"
     ]
    },
    {
     "name": "stderr",
     "output_type": "stream",
     "text": [
      "98it [00:41,  2.33it/s]\n"
     ]
    },
    {
     "name": "stdout",
     "output_type": "stream",
     "text": [
      "\u001b[91mLoss on validation: 0.25392589\n",
      "\u001b[0m\n",
      "# Found cached data data/sets/liberty.pt\n"
     ]
    },
    {
     "name": "stderr",
     "output_type": "stream",
     "text": [
      "100%|██████████| 100000/100000 [00:01<00:00, 65726.01it/s]\n"
     ]
    },
    {
     "name": "stdout",
     "output_type": "stream",
     "text": [
      "# Found cached data data/sets/notredame.pt\n"
     ]
    },
    {
     "name": "stderr",
     "output_type": "stream",
     "text": [
      "100%|██████████| 100000/100000 [00:01<00:00, 60345.56it/s]\n",
      "Train Epoch: 41 [99840/100000 (100%)]\tLoss: 0.226053: : 3125it [01:31, 34.20it/s]\n"
     ]
    },
    {
     "name": "stdout",
     "output_type": "stream",
     "text": [
      "ave_loss: 0.19689172567248345\n"
     ]
    },
    {
     "name": "stderr",
     "output_type": "stream",
     "text": [
      "98it [00:47,  2.07it/s]\n"
     ]
    },
    {
     "name": "stdout",
     "output_type": "stream",
     "text": [
      "\u001b[91mLoss on validation: 0.24899755\n",
      "\u001b[0m\n",
      "# Found cached data data/sets/liberty.pt\n"
     ]
    },
    {
     "name": "stderr",
     "output_type": "stream",
     "text": [
      "100%|██████████| 100000/100000 [00:01<00:00, 62558.11it/s]\n"
     ]
    },
    {
     "name": "stdout",
     "output_type": "stream",
     "text": [
      "# Found cached data data/sets/notredame.pt\n"
     ]
    },
    {
     "name": "stderr",
     "output_type": "stream",
     "text": [
      "100%|██████████| 100000/100000 [00:01<00:00, 60910.99it/s]\n",
      "Train Epoch: 42 [99840/100000 (100%)]\tLoss: 0.122201: : 3125it [01:31, 34.25it/s]\n"
     ]
    },
    {
     "name": "stdout",
     "output_type": "stream",
     "text": [
      "ave_loss: 0.19502321634054184\n"
     ]
    },
    {
     "name": "stderr",
     "output_type": "stream",
     "text": [
      "98it [00:41,  2.35it/s]\n"
     ]
    },
    {
     "name": "stdout",
     "output_type": "stream",
     "text": [
      "\u001b[91mLoss on validation: 0.24255105\n",
      "\u001b[0m\n",
      "# Found cached data data/sets/liberty.pt\n"
     ]
    },
    {
     "name": "stderr",
     "output_type": "stream",
     "text": [
      "100%|██████████| 100000/100000 [00:01<00:00, 65069.60it/s]\n"
     ]
    },
    {
     "name": "stdout",
     "output_type": "stream",
     "text": [
      "# Found cached data data/sets/notredame.pt\n"
     ]
    },
    {
     "name": "stderr",
     "output_type": "stream",
     "text": [
      "100%|██████████| 100000/100000 [00:01<00:00, 59041.84it/s]\n",
      "Train Epoch: 43 [99840/100000 (100%)]\tLoss: 0.177302: : 3125it [01:32, 33.68it/s]\n"
     ]
    },
    {
     "name": "stdout",
     "output_type": "stream",
     "text": [
      "ave_loss: 0.19578233588576316\n"
     ]
    },
    {
     "name": "stderr",
     "output_type": "stream",
     "text": [
      "98it [00:42,  2.33it/s]\n"
     ]
    },
    {
     "name": "stdout",
     "output_type": "stream",
     "text": [
      "\u001b[91mLoss on validation: 0.25132652\n",
      "\u001b[0m\n",
      "# Found cached data data/sets/liberty.pt\n"
     ]
    },
    {
     "name": "stderr",
     "output_type": "stream",
     "text": [
      "100%|██████████| 100000/100000 [00:01<00:00, 64633.69it/s]\n"
     ]
    },
    {
     "name": "stdout",
     "output_type": "stream",
     "text": [
      "# Found cached data data/sets/notredame.pt\n"
     ]
    },
    {
     "name": "stderr",
     "output_type": "stream",
     "text": [
      "100%|██████████| 100000/100000 [00:01<00:00, 58496.54it/s]\n",
      "Train Epoch: 44 [99840/100000 (100%)]\tLoss: 0.186948: : 3125it [01:32, 33.69it/s]\n"
     ]
    },
    {
     "name": "stdout",
     "output_type": "stream",
     "text": [
      "ave_loss: 0.19379122129678727\n"
     ]
    },
    {
     "name": "stderr",
     "output_type": "stream",
     "text": [
      "98it [00:49,  1.97it/s]\n"
     ]
    },
    {
     "name": "stdout",
     "output_type": "stream",
     "text": [
      "\u001b[91mLoss on validation: 0.24660023\n",
      "\u001b[0m\n",
      "# Found cached data data/sets/liberty.pt\n"
     ]
    },
    {
     "name": "stderr",
     "output_type": "stream",
     "text": [
      "100%|██████████| 100000/100000 [00:01<00:00, 61532.25it/s]\n"
     ]
    },
    {
     "name": "stdout",
     "output_type": "stream",
     "text": [
      "# Found cached data data/sets/notredame.pt\n"
     ]
    },
    {
     "name": "stderr",
     "output_type": "stream",
     "text": [
      "100%|██████████| 100000/100000 [00:01<00:00, 60998.45it/s]\n",
      "Train Epoch: 45 [99840/100000 (100%)]\tLoss: 0.130194: : 3125it [01:31, 34.08it/s]\n"
     ]
    },
    {
     "name": "stdout",
     "output_type": "stream",
     "text": [
      "ave_loss: 0.19362239396214484\n"
     ]
    },
    {
     "name": "stderr",
     "output_type": "stream",
     "text": [
      "98it [00:44,  2.18it/s]\n"
     ]
    },
    {
     "name": "stdout",
     "output_type": "stream",
     "text": [
      "\u001b[91mLoss on validation: 0.25036500\n",
      "\u001b[0m\n",
      "# Found cached data data/sets/liberty.pt\n"
     ]
    },
    {
     "name": "stderr",
     "output_type": "stream",
     "text": [
      "100%|██████████| 100000/100000 [00:01<00:00, 56489.42it/s]\n"
     ]
    },
    {
     "name": "stdout",
     "output_type": "stream",
     "text": [
      "# Found cached data data/sets/notredame.pt\n"
     ]
    },
    {
     "name": "stderr",
     "output_type": "stream",
     "text": [
      "100%|██████████| 100000/100000 [00:01<00:00, 54058.95it/s]\n",
      "Train Epoch: 46 [99840/100000 (100%)]\tLoss: 0.146553: : 3125it [01:30, 34.65it/s]\n"
     ]
    },
    {
     "name": "stdout",
     "output_type": "stream",
     "text": [
      "ave_loss: 0.19236716393470765\n"
     ]
    },
    {
     "name": "stderr",
     "output_type": "stream",
     "text": [
      "98it [00:42,  2.33it/s]\n"
     ]
    },
    {
     "name": "stdout",
     "output_type": "stream",
     "text": [
      "\u001b[91mLoss on validation: 0.24599169\n",
      "\u001b[0m\n",
      "# Found cached data data/sets/liberty.pt\n"
     ]
    },
    {
     "name": "stderr",
     "output_type": "stream",
     "text": [
      "100%|██████████| 100000/100000 [00:01<00:00, 65844.76it/s]\n"
     ]
    },
    {
     "name": "stdout",
     "output_type": "stream",
     "text": [
      "# Found cached data data/sets/notredame.pt\n"
     ]
    },
    {
     "name": "stderr",
     "output_type": "stream",
     "text": [
      "100%|██████████| 100000/100000 [00:01<00:00, 62635.43it/s]\n",
      "Train Epoch: 47 [99840/100000 (100%)]\tLoss: 0.257117: : 3125it [01:31, 34.09it/s]\n"
     ]
    },
    {
     "name": "stdout",
     "output_type": "stream",
     "text": [
      "ave_loss: 0.1913409202504158\n"
     ]
    },
    {
     "name": "stderr",
     "output_type": "stream",
     "text": [
      "98it [00:44,  2.22it/s]\n"
     ]
    },
    {
     "name": "stdout",
     "output_type": "stream",
     "text": [
      "\u001b[91mLoss on validation: 0.24661696\n",
      "\u001b[0m\n",
      "# Found cached data data/sets/liberty.pt\n"
     ]
    },
    {
     "name": "stderr",
     "output_type": "stream",
     "text": [
      "100%|██████████| 100000/100000 [00:01<00:00, 64833.49it/s]\n"
     ]
    },
    {
     "name": "stdout",
     "output_type": "stream",
     "text": [
      "# Found cached data data/sets/notredame.pt\n"
     ]
    },
    {
     "name": "stderr",
     "output_type": "stream",
     "text": [
      "100%|██████████| 100000/100000 [00:01<00:00, 58976.65it/s]\n",
      "Train Epoch: 48 [99840/100000 (100%)]\tLoss: 0.272054: : 3125it [01:34, 32.92it/s]\n"
     ]
    },
    {
     "name": "stdout",
     "output_type": "stream",
     "text": [
      "ave_loss: 0.18987999124526977\n"
     ]
    },
    {
     "name": "stderr",
     "output_type": "stream",
     "text": [
      "98it [00:42,  2.32it/s]\n"
     ]
    },
    {
     "name": "stdout",
     "output_type": "stream",
     "text": [
      "\u001b[91mLoss on validation: 0.24212204\n",
      "\u001b[0m\n",
      "# Found cached data data/sets/liberty.pt\n"
     ]
    },
    {
     "name": "stderr",
     "output_type": "stream",
     "text": [
      "100%|██████████| 100000/100000 [00:01<00:00, 64680.47it/s]\n"
     ]
    },
    {
     "name": "stdout",
     "output_type": "stream",
     "text": [
      "# Found cached data data/sets/notredame.pt\n"
     ]
    },
    {
     "name": "stderr",
     "output_type": "stream",
     "text": [
      "100%|██████████| 100000/100000 [00:01<00:00, 59048.68it/s]\n",
      "Train Epoch: 49 [99840/100000 (100%)]\tLoss: 0.235620: : 3125it [01:32, 33.86it/s]\n"
     ]
    },
    {
     "name": "stdout",
     "output_type": "stream",
     "text": [
      "ave_loss: 0.19131201102137566\n"
     ]
    },
    {
     "name": "stderr",
     "output_type": "stream",
     "text": [
      "98it [00:41,  2.35it/s]\n"
     ]
    },
    {
     "name": "stdout",
     "output_type": "stream",
     "text": [
      "\u001b[91mLoss on validation: 0.24601727\n",
      "\u001b[0m\n",
      "# Found cached data data/sets/liberty.pt\n"
     ]
    },
    {
     "name": "stderr",
     "output_type": "stream",
     "text": [
      "100%|██████████| 100000/100000 [00:01<00:00, 56783.97it/s]\n"
     ]
    },
    {
     "name": "stdout",
     "output_type": "stream",
     "text": [
      "# Found cached data data/sets/notredame.pt\n"
     ]
    },
    {
     "name": "stderr",
     "output_type": "stream",
     "text": [
      "100%|██████████| 100000/100000 [00:01<00:00, 61839.00it/s]\n",
      "Train Epoch: 50 [99840/100000 (100%)]\tLoss: 0.209991: : 3125it [01:32, 33.73it/s]\n"
     ]
    },
    {
     "name": "stdout",
     "output_type": "stream",
     "text": [
      "ave_loss: 0.18952245636463166\n"
     ]
    },
    {
     "name": "stderr",
     "output_type": "stream",
     "text": [
      "98it [00:41,  2.35it/s]\n"
     ]
    },
    {
     "name": "stdout",
     "output_type": "stream",
     "text": [
      "\u001b[91mLoss on validation: 0.25179289\n",
      "\u001b[0m\n",
      "# Found cached data data/sets/liberty.pt\n"
     ]
    },
    {
     "name": "stderr",
     "output_type": "stream",
     "text": [
      "100%|██████████| 100000/100000 [00:01<00:00, 63097.24it/s]\n"
     ]
    },
    {
     "name": "stdout",
     "output_type": "stream",
     "text": [
      "# Found cached data data/sets/notredame.pt\n"
     ]
    },
    {
     "name": "stderr",
     "output_type": "stream",
     "text": [
      "100%|██████████| 100000/100000 [00:01<00:00, 62843.06it/s]\n",
      "Train Epoch: 51 [99840/100000 (100%)]\tLoss: 0.155204: : 3125it [01:33, 33.48it/s]\n"
     ]
    },
    {
     "name": "stdout",
     "output_type": "stream",
     "text": [
      "ave_loss: 0.18685571746349336\n"
     ]
    },
    {
     "name": "stderr",
     "output_type": "stream",
     "text": [
      "98it [00:41,  2.35it/s]\n"
     ]
    },
    {
     "name": "stdout",
     "output_type": "stream",
     "text": [
      "\u001b[91mLoss on validation: 0.24139979\n",
      "\u001b[0m\n",
      "# Found cached data data/sets/liberty.pt\n"
     ]
    },
    {
     "name": "stderr",
     "output_type": "stream",
     "text": [
      "100%|██████████| 100000/100000 [00:01<00:00, 65342.11it/s]\n"
     ]
    },
    {
     "name": "stdout",
     "output_type": "stream",
     "text": [
      "# Found cached data data/sets/notredame.pt\n"
     ]
    },
    {
     "name": "stderr",
     "output_type": "stream",
     "text": [
      "100%|██████████| 100000/100000 [00:01<00:00, 60839.93it/s]\n",
      "Train Epoch: 52 [99840/100000 (100%)]\tLoss: 0.282696: : 3125it [01:33, 33.43it/s]\n"
     ]
    },
    {
     "name": "stdout",
     "output_type": "stream",
     "text": [
      "ave_loss: 0.18611773099541665\n"
     ]
    },
    {
     "name": "stderr",
     "output_type": "stream",
     "text": [
      "98it [00:41,  2.35it/s]\n"
     ]
    },
    {
     "name": "stdout",
     "output_type": "stream",
     "text": [
      "\u001b[91mLoss on validation: 0.25074270\n",
      "\u001b[0m\n",
      "# Found cached data data/sets/liberty.pt\n"
     ]
    },
    {
     "name": "stderr",
     "output_type": "stream",
     "text": [
      "100%|██████████| 100000/100000 [00:01<00:00, 65818.47it/s]\n"
     ]
    },
    {
     "name": "stdout",
     "output_type": "stream",
     "text": [
      "# Found cached data data/sets/notredame.pt\n"
     ]
    },
    {
     "name": "stderr",
     "output_type": "stream",
     "text": [
      "100%|██████████| 100000/100000 [00:01<00:00, 62948.15it/s]\n",
      "Train Epoch: 53 [99840/100000 (100%)]\tLoss: 0.150974: : 3125it [01:32, 33.94it/s]\n"
     ]
    },
    {
     "name": "stdout",
     "output_type": "stream",
     "text": [
      "ave_loss: 0.18571382741689682\n"
     ]
    },
    {
     "name": "stderr",
     "output_type": "stream",
     "text": [
      "98it [00:41,  2.35it/s]\n"
     ]
    },
    {
     "name": "stdout",
     "output_type": "stream",
     "text": [
      "\u001b[91mLoss on validation: 0.24632535\n",
      "\u001b[0m\n",
      "# Found cached data data/sets/liberty.pt\n"
     ]
    },
    {
     "name": "stderr",
     "output_type": "stream",
     "text": [
      "100%|██████████| 100000/100000 [00:01<00:00, 65830.81it/s]\n"
     ]
    },
    {
     "name": "stdout",
     "output_type": "stream",
     "text": [
      "# Found cached data data/sets/notredame.pt\n"
     ]
    },
    {
     "name": "stderr",
     "output_type": "stream",
     "text": [
      "100%|██████████| 100000/100000 [00:01<00:00, 61781.53it/s]\n",
      "Train Epoch: 54 [99840/100000 (100%)]\tLoss: 0.186545: : 3125it [01:33, 33.26it/s]\n"
     ]
    },
    {
     "name": "stdout",
     "output_type": "stream",
     "text": [
      "ave_loss: 0.18491989680051804\n"
     ]
    },
    {
     "name": "stderr",
     "output_type": "stream",
     "text": [
      "98it [00:43,  2.23it/s]\n"
     ]
    },
    {
     "name": "stdout",
     "output_type": "stream",
     "text": [
      "\u001b[91mLoss on validation: 0.24654816\n",
      "\u001b[0m\n",
      "# Found cached data data/sets/liberty.pt\n"
     ]
    },
    {
     "name": "stderr",
     "output_type": "stream",
     "text": [
      "100%|██████████| 100000/100000 [00:01<00:00, 57437.14it/s]\n"
     ]
    },
    {
     "name": "stdout",
     "output_type": "stream",
     "text": [
      "# Found cached data data/sets/notredame.pt\n"
     ]
    },
    {
     "name": "stderr",
     "output_type": "stream",
     "text": [
      "100%|██████████| 100000/100000 [00:01<00:00, 51691.19it/s]\n",
      "Train Epoch: 55 [99840/100000 (100%)]\tLoss: 0.100586: : 3125it [01:36, 32.51it/s]\n"
     ]
    },
    {
     "name": "stdout",
     "output_type": "stream",
     "text": [
      "ave_loss: 0.1833152724647522\n"
     ]
    },
    {
     "name": "stderr",
     "output_type": "stream",
     "text": [
      "98it [00:41,  2.34it/s]\n"
     ]
    },
    {
     "name": "stdout",
     "output_type": "stream",
     "text": [
      "\u001b[91mLoss on validation: 0.24257731\n",
      "\u001b[0m\n",
      "# Found cached data data/sets/liberty.pt\n"
     ]
    },
    {
     "name": "stderr",
     "output_type": "stream",
     "text": [
      "100%|██████████| 100000/100000 [00:01<00:00, 64141.13it/s]\n"
     ]
    },
    {
     "name": "stdout",
     "output_type": "stream",
     "text": [
      "# Found cached data data/sets/notredame.pt\n"
     ]
    },
    {
     "name": "stderr",
     "output_type": "stream",
     "text": [
      "100%|██████████| 100000/100000 [00:01<00:00, 61702.22it/s]\n",
      "Train Epoch: 56 [99840/100000 (100%)]\tLoss: 0.129605: : 3125it [01:32, 33.95it/s]\n"
     ]
    },
    {
     "name": "stdout",
     "output_type": "stream",
     "text": [
      "ave_loss: 0.18396136807441713\n"
     ]
    },
    {
     "name": "stderr",
     "output_type": "stream",
     "text": [
      "98it [00:42,  2.33it/s]\n"
     ]
    },
    {
     "name": "stdout",
     "output_type": "stream",
     "text": [
      "\u001b[91mLoss on validation: 0.25446517\n",
      "\u001b[0m\n",
      "# Found cached data data/sets/liberty.pt\n"
     ]
    },
    {
     "name": "stderr",
     "output_type": "stream",
     "text": [
      "100%|██████████| 100000/100000 [00:01<00:00, 62453.86it/s]\n"
     ]
    },
    {
     "name": "stdout",
     "output_type": "stream",
     "text": [
      "# Found cached data data/sets/notredame.pt\n"
     ]
    },
    {
     "name": "stderr",
     "output_type": "stream",
     "text": [
      "100%|██████████| 100000/100000 [00:01<00:00, 62378.17it/s]\n",
      "Train Epoch: 57 [99840/100000 (100%)]\tLoss: 0.232096: : 3125it [01:31, 33.98it/s]\n"
     ]
    },
    {
     "name": "stdout",
     "output_type": "stream",
     "text": [
      "ave_loss: 0.18479146708250047\n"
     ]
    },
    {
     "name": "stderr",
     "output_type": "stream",
     "text": [
      "98it [00:42,  2.33it/s]\n"
     ]
    },
    {
     "name": "stdout",
     "output_type": "stream",
     "text": [
      "\u001b[91mLoss on validation: 0.24292387\n",
      "\u001b[0m\n",
      "# Found cached data data/sets/liberty.pt\n"
     ]
    },
    {
     "name": "stderr",
     "output_type": "stream",
     "text": [
      "100%|██████████| 100000/100000 [00:01<00:00, 64652.05it/s]\n"
     ]
    },
    {
     "name": "stdout",
     "output_type": "stream",
     "text": [
      "# Found cached data data/sets/notredame.pt\n"
     ]
    },
    {
     "name": "stderr",
     "output_type": "stream",
     "text": [
      "100%|██████████| 100000/100000 [00:01<00:00, 61542.01it/s]\n",
      "Train Epoch: 58 [99840/100000 (100%)]\tLoss: 0.118088: : 3125it [01:31, 34.01it/s]\n"
     ]
    },
    {
     "name": "stdout",
     "output_type": "stream",
     "text": [
      "ave_loss: 0.18224295067667962\n"
     ]
    },
    {
     "name": "stderr",
     "output_type": "stream",
     "text": [
      "98it [00:41,  2.35it/s]\n"
     ]
    },
    {
     "name": "stdout",
     "output_type": "stream",
     "text": [
      "\u001b[91mLoss on validation: 0.24075186\n",
      "\u001b[0m\n",
      "# Found cached data data/sets/liberty.pt\n"
     ]
    },
    {
     "name": "stderr",
     "output_type": "stream",
     "text": [
      "100%|██████████| 100000/100000 [00:01<00:00, 64913.82it/s]\n"
     ]
    },
    {
     "name": "stdout",
     "output_type": "stream",
     "text": [
      "# Found cached data data/sets/notredame.pt\n"
     ]
    },
    {
     "name": "stderr",
     "output_type": "stream",
     "text": [
      "100%|██████████| 100000/100000 [00:01<00:00, 61682.13it/s]\n",
      "Train Epoch: 59 [99840/100000 (100%)]\tLoss: 0.184042: : 3125it [01:32, 33.80it/s]\n"
     ]
    },
    {
     "name": "stdout",
     "output_type": "stream",
     "text": [
      "ave_loss: 0.18277710996985436\n"
     ]
    },
    {
     "name": "stderr",
     "output_type": "stream",
     "text": [
      "98it [00:42,  2.33it/s]\n"
     ]
    },
    {
     "name": "stdout",
     "output_type": "stream",
     "text": [
      "\u001b[91mLoss on validation: 0.24553264\n",
      "\u001b[0m\n",
      "# Found cached data data/sets/liberty.pt\n"
     ]
    },
    {
     "name": "stderr",
     "output_type": "stream",
     "text": [
      "100%|██████████| 100000/100000 [00:01<00:00, 65192.33it/s]\n"
     ]
    },
    {
     "name": "stdout",
     "output_type": "stream",
     "text": [
      "# Found cached data data/sets/notredame.pt\n"
     ]
    },
    {
     "name": "stderr",
     "output_type": "stream",
     "text": [
      "100%|██████████| 100000/100000 [00:01<00:00, 62654.97it/s]\n"
     ]
    },
    {
     "data": {
      "image/png": "[encoded data removed]",
      "text/plain": [
       "<Figure size 432x288 with 1 Axes>"
      ]
     },
     "metadata": {
      "needs_background": "light"
     },
     "output_type": "display_data"
    },
    {
     "data": {
      "image/png": "[encoded data removed]",
      "text/plain": [
       "<Figure size 432x288 with 1 Axes>"
      ]
     },
     "metadata": {
      "needs_background": "light"
     },
     "output_type": "display_data"
    },
    {
     "data": {
      "image/png": "[encoded data removed]",
      "text/plain": [
       "<Figure size 432x288 with 1 Axes>"
      ]
     },
     "metadata": {
      "needs_background": "light"
     },
     "output_type": "display_data"
    },
    {
     "name": "stdout",
     "output_type": "stream",
     "text": [
      "epoch: 0   ave_loss: 0.38197849207401274\n",
      "epoch: 1   ave_loss: 0.33202793123722074\n",
      "epoch: 2   ave_loss: 0.318922604906559\n",
      "epoch: 3   ave_loss: 0.306563486828804\n",
      "epoch: 4   ave_loss: 0.28963429572820665\n",
      "epoch: 5   ave_loss: 0.28057940925121305\n",
      "epoch: 6   ave_loss: 0.2727759683322907\n",
      "epoch: 7   ave_loss: 0.2708574397158623\n",
      "epoch: 8   ave_loss: 0.2658605541443825\n",
      "epoch: 9   ave_loss: 0.2633916282939911\n",
      "epoch: 10   ave_loss: 0.2592742396068573\n",
      "epoch: 11   ave_loss: 0.25566112244844436\n",
      "epoch: 12   ave_loss: 0.25432900408744813\n",
      "epoch: 13   ave_loss: 0.25014324797153475\n",
      "epoch: 14   ave_loss: 0.24491660046339034\n",
      "epoch: 15   ave_loss: 0.23933690375566483\n",
      "epoch: 16   ave_loss: 0.23712341762781144\n",
      "epoch: 17   ave_loss: 0.23284473556995391\n",
      "epoch: 18   ave_loss: 0.2311421190738678\n",
      "epoch: 19   ave_loss: 0.22950921633958818\n",
      "epoch: 20   ave_loss: 0.2247313382458687\n",
      "epoch: 21   ave_loss: 0.2222505121898651\n",
      "epoch: 22   ave_loss: 0.21989015120267869\n",
      "epoch: 23   ave_loss: 0.21900237015724183\n",
      "epoch: 24   ave_loss: 0.21540467124700546\n",
      "epoch: 25   ave_loss: 0.21299760719656943\n",
      "epoch: 26   ave_loss: 0.2119810683631897\n",
      "epoch: 27   ave_loss: 0.2117344858419895\n",
      "epoch: 28   ave_loss: 0.2090374957740307\n",
      "epoch: 29   ave_loss: 0.20870134605169297\n",
      "epoch: 30   ave_loss: 0.20660881603360176\n",
      "epoch: 31   ave_loss: 0.20659646924734115\n",
      "epoch: 32   ave_loss: 0.20452820397496224\n",
      "epoch: 33   ave_loss: 0.2052405365014076\n",
      "epoch: 34   ave_loss: 0.2029575262093544\n",
      "epoch: 35   ave_loss: 0.20176960209608077\n",
      "epoch: 36   ave_loss: 0.199925116032362\n",
      "epoch: 37   ave_loss: 0.20119314696907997\n",
      "epoch: 38   ave_loss: 0.19854113484740257\n",
      "epoch: 39   ave_loss: 0.19709208837747574\n",
      "epoch: 40   ave_loss: 0.19692391590118408\n",
      "epoch: 41   ave_loss: 0.19689172567248345\n",
      "epoch: 42   ave_loss: 0.19502321634054184\n",
      "epoch: 43   ave_loss: 0.19578233588576316\n",
      "epoch: 44   ave_loss: 0.19379122129678727\n",
      "epoch: 45   ave_loss: 0.19362239396214484\n",
      "epoch: 46   ave_loss: 0.19236716393470765\n",
      "epoch: 47   ave_loss: 0.1913409202504158\n",
      "epoch: 48   ave_loss: 0.18987999124526977\n",
      "epoch: 49   ave_loss: 0.19131201102137566\n",
      "epoch: 50   ave_loss: 0.18952245636463166\n",
      "epoch: 51   ave_loss: 0.18685571746349336\n",
      "epoch: 52   ave_loss: 0.18611773099541665\n",
      "epoch: 53   ave_loss: 0.18571382741689682\n",
      "epoch: 54   ave_loss: 0.18491989680051804\n",
      "epoch: 55   ave_loss: 0.1833152724647522\n",
      "epoch: 56   ave_loss: 0.18396136807441713\n",
      "epoch: 57   ave_loss: 0.18479146708250047\n",
      "epoch: 58   ave_loss: 0.18224295067667962\n",
      "epoch: 59   ave_loss: 0.18277710996985436\n",
      "\n",
      "\n",
      "epoch: 0 diff: 0.09472616932236416\n",
      "epoch: 1 diff: 0.019414019766632373\n",
      "epoch: 2 diff: 0.025920276508282658\n",
      "epoch: 3 diff: 0.013704781904220587\n",
      "epoch: 4 diff: 0.002122145078084947\n",
      "epoch: 5 diff: 0.0016513167033876397\n",
      "epoch: 6 diff: 0.0031685463619718357\n",
      "epoch: 7 diff: 0.008724560488632738\n",
      "epoch: 8 diff: 0.006153245428095033\n",
      "epoch: 9 diff: 0.015212447626833991\n",
      "epoch: 10 diff: 0.01718545886341405\n",
      "epoch: 11 diff: 0.009185729334695025\n",
      "epoch: 12 diff: 0.014616235092756669\n",
      "epoch: 13 diff: 0.022770998057248637\n",
      "epoch: 14 diff: 0.0355308883773551\n",
      "epoch: 15 diff: 0.029208605541355764\n",
      "epoch: 16 diff: 0.022120010319048006\n",
      "epoch: 17 diff: 0.03475361365094479\n",
      "epoch: 18 diff: 0.029656571500641965\n",
      "epoch: 19 diff: 0.026171203621212308\n",
      "epoch: 20 diff: 0.03264236406735013\n",
      "epoch: 21 diff: 0.03468732294758972\n",
      "epoch: 22 diff: 0.02969637046419843\n",
      "epoch: 23 diff: 0.024962405479246247\n",
      "epoch: 24 diff: 0.0368699542124904\n",
      "epoch: 25 diff: 0.03805436186938868\n",
      "epoch: 26 diff: 0.04278595086243686\n",
      "epoch: 27 diff: 0.03932816325112265\n",
      "epoch: 28 diff: 0.04031787619140684\n",
      "epoch: 29 diff: 0.04308388148302936\n",
      "epoch: 30 diff: 0.04663469189782532\n",
      "epoch: 31 diff: 0.045643653941884355\n",
      "epoch: 32 diff: 0.046512376042263825\n",
      "epoch: 33 diff: 0.04936239280973165\n",
      "epoch: 34 diff: 0.0581884231543541\n",
      "epoch: 35 diff: 0.04634368144930626\n",
      "epoch: 36 diff: 0.05355222533004625\n",
      "epoch: 37 diff: 0.0467102997928493\n",
      "epoch: 38 diff: 0.050815689677146\n",
      "epoch: 39 diff: 0.05775388176173582\n",
      "epoch: 40 diff: 0.057001976718270064\n",
      "epoch: 41 diff: 0.05210581969146824\n",
      "epoch: 42 diff: 0.04752783808484368\n",
      "epoch: 43 diff: 0.0555441854026123\n",
      "epoch: 44 diff: 0.052809011417505686\n",
      "epoch: 45 diff: 0.05674260420329716\n",
      "epoch: 46 diff: 0.05362452725201236\n",
      "epoch: 47 diff: 0.05527603825705393\n",
      "epoch: 48 diff: 0.052242045368710355\n",
      "epoch: 49 diff: 0.054705260593428895\n",
      "epoch: 50 diff: 0.062270430062838944\n",
      "epoch: 51 diff: 0.05454407324805549\n",
      "epoch: 52 diff: 0.06462497283285976\n",
      "epoch: 53 diff: 0.06061152175222123\n",
      "epoch: 54 diff: 0.06162826076492972\n",
      "epoch: 55 diff: 0.059262040999762844\n",
      "epoch: 56 diff: 0.07050380638769696\n",
      "epoch: 57 diff: 0.05813240785769053\n",
      "epoch: 58 diff: 0.058508912305418326\n",
      "epoch: 59 diff: 0.06275552935481071\n",
      "\n",
      "\n",
      "min all_aveloss: 0.18224295067667962\n",
      "min all_vloss: 0.24075186298209794\n",
      "compare: 0.0016513167033876397\n"
     ]
    }
   ],
   "source": [
    "all_aveloss = []\n",
    "all_vloss = []\n",
    "all_epoch = []\n",
    "compare = []\n",
    "\n",
    "\n",
    "start = args.start_epoch\n",
    "end = start + args.epochs\n",
    "logger, file_logger = None, None\n",
    "triplet_flag = args.load_random_triplets\n",
    "from Losses import loss_DesNet\n",
    "TEST_ON_W1BS = True\n",
    "LOG_DIR = args.log_dir\n",
    "if(args.enable_logging):\n",
    "    from Loggers import Logger, FileLogger\n",
    "    logger = Logger(LOG_DIR)\n",
    "    \n",
    "suffix = '{}_{}_{}_as_fliprot'.format(args.experiment_name, args.training_set, args.batch_reduce)\n",
    "\n",
    "res_fpr_liberty = torch.zeros(end-start,1)\n",
    "res_fpr_notredame = torch.zeros(end-start, 1)\n",
    "res_fpr_yosemite = torch.zeros(end-start, 1)\n",
    "\n",
    "for epoch in range(start, end):\n",
    "\n",
    "    # iterate over test loaders and test results\n",
    "    train(train_loader, model, optimizer1, epoch, logger, triplet_flag)\n",
    "    with torch.no_grad():\n",
    "        test(validation_loader['dataloader'], model, epoch, logger, validation_loader['name'])\n",
    "\n",
    "    #randomize train loader batches\n",
    "    train_loader, _ = create_loaders(dataset_names, load_random_triplets=triplet_flag)\n",
    "\n",
    "plt.figure()\n",
    "x1 = range(0,len(all_epoch))\n",
    "y1 = all_aveloss\n",
    "plt.title('Train loss vs. epoches', fontsize=20)\n",
    "plt.plot(x1, y1)\n",
    "plt.ylabel('Loss', fontsize=10)\n",
    "plt.xlabel('Epochs', fontsize=10)\n",
    "plt.savefig(\"imgPath/cnn3_32_0.1_loss.jpg\")\n",
    "plt.show()\n",
    "\n",
    "plt.figure()\n",
    "x2 = range(0,len(all_epoch))\n",
    "y2 = all_vloss\n",
    "plt.title('Train V_loss vs. epoches', fontsize=20)\n",
    "plt.plot(x2, y2)\n",
    "plt.ylabel('V_Loss', fontsize=10)\n",
    "plt.xlabel('Epochs', fontsize=10)\n",
    "plt.savefig(\"imgPath/cnn3_32_0.1_vloss.jpg\")\n",
    "plt.show()\n",
    "\n",
    "plt.figure()\n",
    "x = range(0,len(all_epoch))\n",
    "y1 = all_aveloss\n",
    "y2 = all_vloss\n",
    "plt.title('Train loss & V_loss vs. epoches', fontsize=10)\n",
    "plt.plot(x, y1, label='loss')\n",
    "plt.plot(x, y2, label='v_loss')\n",
    "plt.ylabel('Loss & V_Loss', fontsize=10)\n",
    "plt.xlabel('Epochs', fontsize=10)\n",
    "plt.legend(['loss', 'v_loss'], loc='upper right') \n",
    "plt.savefig(\"imgPath/cnn3_32_0.1_loss&vloss.jpg\")\n",
    "plt.show()\n",
    "\n",
    "for i in range(len(all_aveloss)):\n",
    "    print('epoch:', i,' ','ave_loss:',all_aveloss[i])\n",
    "    \n",
    "    \n",
    "print('\\n')\n",
    "\n",
    "for j in range(len(all_aveloss)):\n",
    "    diff = abs(all_aveloss[j] - all_vloss[j])\n",
    "    compare.append(diff)\n",
    "    print('epoch:', j, 'diff:', diff)\n",
    "\n",
    "print('\\n')\n",
    "\n",
    "print('min all_aveloss:',min(all_aveloss))\n",
    "print('min all_vloss:',min(all_vloss))\n",
    "print('compare:', min(compare))\n"
   ]
  },
  {
   "cell_type": "code",
   "execution_count": 12,
   "metadata": {
    "collapsed": true,
    "jupyter": {
     "outputs_hidden": true
    }
   },
   "outputs": [
    {
     "data": {
      "image/png": "[encoded data removed]",
      "text/plain": [
       "<Figure size 432x288 with 1 Axes>"
      ]
     },
     "metadata": {
      "needs_background": "light"
     },
     "output_type": "display_data"
    },
    {
     "data": {
      "image/png": "[encoded data removed]",
      "text/plain": [
       "<Figure size 432x288 with 1 Axes>"
      ]
     },
     "metadata": {
      "needs_background": "light"
     },
     "output_type": "display_data"
    },
    {
     "data": {
      "image/png": "[encoded data removed]",
      "text/plain": [
       "<Figure size 432x288 with 1 Axes>"
      ]
     },
     "metadata": {
      "needs_background": "light"
     },
     "output_type": "display_data"
    },
    {
     "name": "stdout",
     "output_type": "stream",
     "text": [
      "epoch: 0   ave_loss: 0.3843980565690994\n",
      "epoch: 1   ave_loss: 0.32751359260082247\n",
      "epoch: 2   ave_loss: 0.3105444423055649\n",
      "epoch: 3   ave_loss: 0.30361376041889193\n",
      "epoch: 4   ave_loss: 0.29085388281822205\n",
      "epoch: 5   ave_loss: 0.28470597509384155\n",
      "epoch: 6   ave_loss: 0.27617358204841613\n",
      "epoch: 7   ave_loss: 0.2697829394459724\n",
      "epoch: 8   ave_loss: 0.2667827891898155\n",
      "epoch: 9   ave_loss: 0.2630725799870491\n",
      "epoch: 10   ave_loss: 0.26143564495801924\n",
      "epoch: 11   ave_loss: 0.2566937720441818\n",
      "epoch: 12   ave_loss: 0.2547467728662491\n",
      "epoch: 13   ave_loss: 0.25225285979747775\n",
      "epoch: 14   ave_loss: 0.2506391504263878\n",
      "epoch: 15   ave_loss: 0.24985642176389694\n",
      "epoch: 16   ave_loss: 0.2477466260409355\n",
      "epoch: 17   ave_loss: 0.2460395177078247\n",
      "epoch: 18   ave_loss: 0.2419627627158165\n",
      "epoch: 19   ave_loss: 0.24064292558193207\n",
      "epoch: 20   ave_loss: 0.2395227234840393\n",
      "epoch: 21   ave_loss: 0.2361210816681385\n",
      "epoch: 22   ave_loss: 0.23448545515298844\n",
      "epoch: 23   ave_loss: 0.2340907411289215\n",
      "epoch: 24   ave_loss: 0.2342075454235077\n",
      "epoch: 25   ave_loss: 0.23320614597439765\n",
      "epoch: 26   ave_loss: 0.2324408330512047\n",
      "epoch: 27   ave_loss: 0.23001118462324144\n",
      "epoch: 28   ave_loss: 0.22799741886019706\n",
      "epoch: 29   ave_loss: 0.22648710336208344\n",
      "epoch: 30   ave_loss: 0.22824506506204606\n",
      "epoch: 31   ave_loss: 0.2259767633199692\n",
      "epoch: 32   ave_loss: 0.2268968188047409\n",
      "epoch: 33   ave_loss: 0.2263512730741501\n",
      "epoch: 34   ave_loss: 0.22440872764587402\n",
      "epoch: 35   ave_loss: 0.22364780406713486\n",
      "epoch: 36   ave_loss: 0.2216329901456833\n",
      "epoch: 37   ave_loss: 0.22140759886264802\n",
      "epoch: 38   ave_loss: 0.2199162776827812\n",
      "epoch: 39   ave_loss: 0.21957201501369478\n",
      "epoch: 40   ave_loss: 0.219506096637249\n",
      "epoch: 41   ave_loss: 0.21983398714542388\n",
      "epoch: 42   ave_loss: 0.2193780548644066\n",
      "epoch: 43   ave_loss: 0.22084584477186203\n",
      "epoch: 44   ave_loss: 0.21993251239061357\n",
      "epoch: 45   ave_loss: 0.21816369661331178\n",
      "epoch: 46   ave_loss: 0.21785025161743163\n",
      "epoch: 47   ave_loss: 0.21699534871101378\n",
      "epoch: 48   ave_loss: 0.2166266918206215\n",
      "epoch: 49   ave_loss: 0.21647443940639496\n",
      "epoch: 50   ave_loss: 0.21409569460391997\n",
      "epoch: 51   ave_loss: 0.2140084804201126\n",
      "epoch: 52   ave_loss: 0.21544472701072692\n",
      "epoch: 53   ave_loss: 0.2148595623922348\n",
      "epoch: 54   ave_loss: 0.21659434103012085\n",
      "epoch: 55   ave_loss: 0.21720096182584764\n",
      "epoch: 56   ave_loss: 0.2147841662454605\n",
      "epoch: 57   ave_loss: 0.21635869207382202\n",
      "epoch: 58   ave_loss: 0.21588074732780457\n",
      "epoch: 59   ave_loss: 0.21464880858182908\n",
      "\n",
      "\n",
      "epoch: 0 diff: 0.08050024451888338\n",
      "epoch: 1 diff: 0.03579682143853635\n",
      "epoch: 2 diff: 0.027098893355155473\n",
      "epoch: 3 diff: 0.02066889595849175\n",
      "epoch: 4 diff: 0.007479302624682993\n",
      "epoch: 5 diff: 0.0075582252368148195\n",
      "epoch: 6 diff: 0.0009724590407585443\n",
      "epoch: 7 diff: 0.0065124156380186315\n",
      "epoch: 8 diff: 0.0013526211445672454\n",
      "epoch: 9 diff: 0.010840312366728888\n",
      "epoch: 10 diff: 0.0029669822266636947\n",
      "epoch: 11 diff: 0.010250014325112744\n",
      "epoch: 12 diff: 0.014441534511507759\n",
      "epoch: 13 diff: 0.011855530122640179\n",
      "epoch: 14 diff: 0.012204942413446829\n",
      "epoch: 15 diff: 0.008397411249024544\n",
      "epoch: 16 diff: 0.028264326392825778\n",
      "epoch: 17 diff: 0.019132423585920905\n",
      "epoch: 18 diff: 0.016745407766274062\n",
      "epoch: 19 diff: 0.023047985955598427\n",
      "epoch: 20 diff: 0.018900737049384997\n",
      "epoch: 21 diff: 0.016058660799508184\n",
      "epoch: 22 diff: 0.02294901835305349\n",
      "epoch: 23 diff: 0.02402876308562804\n",
      "epoch: 24 diff: 0.016383950848238793\n",
      "epoch: 25 diff: 0.023681391509868643\n",
      "epoch: 26 diff: 0.018473557546819924\n",
      "epoch: 27 diff: 0.020326815223012662\n",
      "epoch: 28 diff: 0.022411804735246982\n",
      "epoch: 29 diff: 0.03217332136669937\n",
      "epoch: 30 diff: 0.018369543775587666\n",
      "epoch: 31 diff: 0.02120354879170047\n",
      "epoch: 32 diff: 0.027749970857951084\n",
      "epoch: 33 diff: 0.024113714619850624\n",
      "epoch: 34 diff: 0.03183591018647566\n",
      "epoch: 35 diff: 0.03308853467965611\n",
      "epoch: 36 diff: 0.027490182042608446\n",
      "epoch: 37 diff: 0.018263818478292337\n",
      "epoch: 38 diff: 0.021173715454704922\n",
      "epoch: 39 diff: 0.025815432566088065\n",
      "epoch: 40 diff: 0.027261561114690747\n",
      "epoch: 41 diff: 0.024738371326582798\n",
      "epoch: 42 diff: 0.023334439501616427\n",
      "epoch: 43 diff: 0.021001558119472186\n",
      "epoch: 44 diff: 0.025501164673299187\n",
      "epoch: 45 diff: 0.025364813773534722\n",
      "epoch: 46 diff: 0.02589373837933251\n",
      "epoch: 47 diff: 0.020355970148310393\n",
      "epoch: 48 diff: 0.02794614105570073\n",
      "epoch: 49 diff: 0.02613080658888331\n",
      "epoch: 50 diff: 0.03224800443289233\n",
      "epoch: 51 diff: 0.030980650301904084\n",
      "epoch: 52 diff: 0.025206903158547928\n",
      "epoch: 53 diff: 0.024222374591194862\n",
      "epoch: 54 diff: 0.023037972318688232\n",
      "epoch: 55 diff: 0.029369975053485542\n",
      "epoch: 56 diff: 0.020930811551736317\n",
      "epoch: 57 diff: 0.02384566894648027\n",
      "epoch: 58 diff: 0.02781467081352154\n",
      "epoch: 59 diff: 0.02497754719150308\n",
      "\n",
      "\n",
      "min all_aveloss: 0.2140084804201126\n",
      "min all_vloss: 0.23571497779719683\n",
      "compare: 0.0009724590407585443\n"
     ]
    }
   ],
   "source": [
    "plt.figure()\n",
    "x1 = range(0,len(all_epoch))\n",
    "y1 = all_aveloss\n",
    "plt.title('Train loss vs. epoches', fontsize=20)\n",
    "plt.plot(x1, y1)\n",
    "plt.ylabel('Loss', fontsize=10)\n",
    "plt.xlabel('Epochs', fontsize=10)\n",
    "plt.savefig(\"imgPath/cnn3_32_0.0001_loss.jpg\")\n",
    "plt.show()\n",
    "\n",
    "plt.figure()\n",
    "x2 = range(0,len(all_epoch))\n",
    "y2 = all_vloss\n",
    "plt.title('Train V_loss vs. epoches', fontsize=20)\n",
    "plt.plot(x2, y2)\n",
    "plt.ylabel('V_Loss', fontsize=10)\n",
    "plt.xlabel('Epochs', fontsize=10)\n",
    "plt.savefig(\"imgPath/cnn3_32_0.0001_vloss.jpg\")\n",
    "plt.show()\n",
    "\n",
    "plt.figure()\n",
    "x = range(0,len(all_epoch))\n",
    "y1 = all_aveloss\n",
    "y2 = all_vloss\n",
    "plt.title('Train loss & V_loss vs. epoches', fontsize=10)\n",
    "plt.plot(x, y1, label='loss')\n",
    "plt.plot(x, y2, label='v_loss')\n",
    "plt.ylabel('Loss & V_Loss', fontsize=10)\n",
    "plt.xlabel('Epochs', fontsize=10)\n",
    "plt.legend(['loss', 'v_loss'], loc='upper right') \n",
    "plt.savefig(\"imgPath/cnn3_32_0.0001_loss&vloss.jpg\")\n",
    "plt.show()\n",
    "\n",
    "for i in range(len(all_aveloss)):\n",
    "    print('epoch:', i,' ','ave_loss:',all_aveloss[i])\n",
    "    \n",
    "    \n",
    "print('\\n')\n",
    "\n",
    "for j in range(len(all_aveloss)):\n",
    "    diff = abs(all_aveloss[j] - all_vloss[j])\n",
    "    compare.append(diff)\n",
    "    print('epoch:', j, 'diff:', diff)\n",
    "\n",
    "print('\\n')\n",
    "\n",
    "print('min all_aveloss:',min(all_aveloss))\n",
    "print('min all_vloss:',min(all_vloss))\n",
    "print('compare:', min(compare))\n"
   ]
  },
  {
   "cell_type": "markdown",
   "metadata": {},
   "source": [
    "### Select the best model, and save it as CNN*.pth; * can be 1, 2, or 3."
   ]
  },
  {
   "cell_type": "markdown",
   "metadata": {},
   "source": [
    "---\n",
    "---\n",
    "<a id='generate_deep_features_cell'></a>\n",
    "## Generate deep features\n",
    "In this section, we will use your trained network to generate deep features for each patch:\n",
    "#### 1. [load weights](#load_weights_module_cell)\n",
    "#### 2. [load patches](#load_raw_patch_files_module_cell)\n",
    "#### 3. [get deep features](#get_deep_features_module_cell)\n",
    "\n",
    "\n",
    "\n",
    "[BackToTop](#top_cell)"
   ]
  },
  {
   "cell_type": "markdown",
   "metadata": {},
   "source": [
    "<a id='load_weights_module_cell'></a>\n",
    "### Load network weights\n",
    "[BackToSection](#generate_deep_features_cell)"
   ]
  },
  {
   "cell_type": "code",
   "execution_count": null,
   "metadata": {},
   "outputs": [],
   "source": [
    "trained_weight_path = \"models/liberty_train/_liberty_min_as_fliprot/checkpoint_4.pth\" # suppose you select  checkpoint_4.pth as the best model for this architecture\n",
    "test_model = DesNet()\n",
    "if args.cuda:\n",
    "    test_model.cuda()\n",
    "trained_weight = torch.load(trained_weight_path)['state_dict']\n",
    "test_model.load_state_dict(trained_weight)\n",
    "test_model.eval()"
   ]
  },
  {
   "cell_type": "markdown",
   "metadata": {},
   "source": [
    "<a id='load_raw_patch_files_module_cell'></a>\n",
    "### Load raw patch files\n",
    "Assume that the raw patch file is stored as patches.pth\n",
    "\n",
    "[BackToSection](#generate_deep_features_cell)"
   ]
  },
  {
   "cell_type": "code",
   "execution_count": null,
   "metadata": {},
   "outputs": [],
   "source": [
    "patches_dir = \"patches.pth\"            # these patches are from keypoint detection results\n",
    "patches = torch.load(patches_dir)\n",
    "print(patches.shape)                  # in your case, the shape should be [10, 200, 1, 32, 32]\n",
    "num_imgs, num_pts, _, _, _ = patches.shape\n",
    "patches = patches[0].view(-1, 1, 32, 32).cuda()\n",
    "print(patches.shape)\n"
   ]
  },
  {
   "cell_type": "markdown",
   "metadata": {},
   "source": [
    "<a id='get_deep_features_module_cell'></a>\n",
    "### Get deep features\n",
    "[BackToSection](#generate_deep_features_cell)"
   ]
  },
  {
   "cell_type": "code",
   "execution_count": 14,
   "metadata": {},
   "outputs": [
    {
     "name": "stdout",
     "output_type": "stream",
     "text": [
      "torch.Size([10, 128])\n",
      "torch.Size([1, 10, 128])\n"
     ]
    }
   ],
   "source": [
    "features = test_model(patches)\n",
    "print(features.shape)\n",
    "features = features.view(num_imgs, num_pts, 128).cpu().data\n",
    "print(features.shape)                  # in your case, the shape should be [10, 200, 128]"
   ]
  },
  {
   "cell_type": "code",
   "execution_count": 15,
   "metadata": {},
   "outputs": [],
   "source": [
    "# save to file, with the name of *_features_CNN*.pth\n",
    "features_dir = \"features_CNN1.pth\"\n",
    "torch.save(features, features_dir)"
   ]
  },
  {
   "cell_type": "code",
   "execution_count": null,
   "metadata": {},
   "outputs": [],
   "source": []
  },
  {
   "cell_type": "code",
   "execution_count": null,
   "metadata": {},
   "outputs": [],
   "source": []
  },
  {
   "cell_type": "code",
   "execution_count": null,
   "metadata": {},
   "outputs": [],
   "source": []
  }
 ],
 "metadata": {
  "kernelspec": {
   "display_name": "Python 3",
   "language": "python",
   "name": "python3"
  },
  "language_info": {
   "codemirror_mode": {
    "name": "ipython",
    "version": 3
   },
   "file_extension": ".py",
   "mimetype": "text/x-python",
   "name": "python",
   "nbconvert_exporter": "python",
   "pygments_lexer": "ipython3",
   "version": "3.6.13"
  }
 },
 "nbformat": 4,
 "nbformat_minor": 4
}
