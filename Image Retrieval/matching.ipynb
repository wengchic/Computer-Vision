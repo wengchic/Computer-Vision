{
 "cells": [
  {
   "cell_type": "markdown",
   "metadata": {},
   "source": [
    "## Hw2 Matching"
   ]
  },
  {
   "cell_type": "code",
   "execution_count": 1,
   "metadata": {},
   "outputs": [],
   "source": [
    "from __future__ import division, print_function\n",
    "import glob\n",
    "import os\n",
    "import warnings\n",
    "warnings.simplefilter(\"ignore\")\n",
    "import cv2\n",
    "import PIL\n",
    "import random\n",
    "import numpy as np\n",
    "import pandas as pd\n",
    "import matplotlib.pyplot as plt\n",
    "import matplotlib.image as mpimg\n",
    "import torch\n",
    "import torch.nn.init\n",
    "import torch.nn as nn\n",
    "import torch.optim as optim\n",
    "import torch.backends.cudnn as cudnn\n",
    "import torch.nn.functional as F\n",
    "import torchvision.datasets as dset\n",
    "import torchvision.transforms as transforms\n",
    "from tqdm import tqdm\n",
    "from torch.autograd import Variable\n",
    "from copy import deepcopy, copy\n",
    "from config_profile import args\n",
    "from Utils import cv2_scale36, cv2_scale, np_reshape, np_reshape64\n",
    "from Utils import L2Norm, cv2_scale, np_reshape\n",
    "from scipy.optimize import linear_sum_assignment\n",
    "import re\n",
    "%matplotlib inline"
   ]
  },
  {
   "cell_type": "markdown",
   "metadata": {},
   "source": [
    "### Check GPU availability, using nvidia-smi "
   ]
  },
  {
   "cell_type": "code",
   "execution_count": 2,
   "metadata": {},
   "outputs": [
    {
     "name": "stdout",
     "output_type": "stream",
     "text": [
      "1.8.1+cu101\n",
      "10.1\n",
      "True\n"
     ]
    }
   ],
   "source": [
    "# Since there are two GPUs on each pelican server, you can either select it as 0 or 1\n",
    "os.environ[\"CUDA_VISIBLE_DEVICES\"] = \"0\"\n",
    "print(torch.__version__)\n",
    "print(torch.version.cuda)  \n",
    "print(torch.cuda.is_available())"
   ]
  },
  {
   "cell_type": "markdown",
   "metadata": {},
   "source": [
    "Get patches function"
   ]
  },
  {
   "cell_type": "code",
   "execution_count": 3,
   "metadata": {},
   "outputs": [],
   "source": [
    "def getPatches(kps, img, size=32, num=20):\n",
    "    res = torch.zeros(num, 1, size, size)\n",
    "    if type(img) is np.ndarray:\n",
    "        img = torch.from_numpy(img)\n",
    "    h, w = img.shape      # note: for image, the x direction is the verticle, y-direction is the horizontal...\n",
    "    for i in range(num):\n",
    "        cx, cy = kps[i]\n",
    "        cx, cy = int(cx), int(cy)\n",
    "        dd = int(size/2)\n",
    "        xmin, xmax = max(0, cx - dd), min(w, cx + dd ) \n",
    "        ymin, ymax = max(0, cy - dd), min(h, cy + dd ) \n",
    "        \n",
    "        xmin_res, xmax_res = dd - min(dd,cx), dd + min(dd, w - cx)\n",
    "        ymin_res, ymax_res = dd - min(dd,cy), dd + min(dd, h - cy)\n",
    "\n",
    "        cropped_img = img[ymin: ymax, xmin: xmax]\n",
    "        ch, cw = cropped_img.shape\n",
    "        res[i, 0, ymin_res: ymin_res+ch, xmin_res: xmin_res+cw] =  cropped_img\n",
    "        \n",
    "    return res"
   ]
  },
  {
   "cell_type": "markdown",
   "metadata": {},
   "source": [
    "### Find the keypoints from query images and dataset images"
   ]
  },
  {
   "cell_type": "code",
   "execution_count": 61,
   "metadata": {
    "collapsed": true,
    "jupyter": {
     "outputs_hidden": true
    },
    "tags": []
   },
   "outputs": [
    {
     "name": "stdout",
     "output_type": "stream",
     "text": [
      "query/q1.JPG\n",
      "query/q2.JPG\n",
      "query/q3.JPG\n",
      "query/q4.JPG\n",
      "query/q5.JPG\n",
      "query/q6.JPG\n",
      "query/q7.JPG\n",
      "query/q8.JPG\n",
      "query/q9.JPG\n",
      "query/q10.JPG\n",
      "query/q11.JPG\n",
      "query/q12.JPG\n",
      "query/q13.JPG\n",
      "query/q14.JPG\n",
      "query/q15.JPG\n",
      "query/q16.JPG\n",
      "query/q17.JPG\n",
      "query/q18.JPG\n",
      "query/q19.JPG\n",
      "query/q20.JPG\n",
      "query/q21.JPG\n",
      "query/q22.JPG\n",
      "query/q23.JPG\n",
      "query/q24.JPG\n",
      "query/q25.JPG\n",
      "query/q26.JPG\n",
      "query/q27.JPG\n",
      "query/q28.JPG\n",
      "query/q29.JPG\n",
      "query/q30.JPG\n",
      "query/q31.JPG\n",
      "query/q32.JPG\n",
      "query/q33.JPG\n",
      "query/q34.JPG\n",
      "all_patch: 34\n"
     ]
    }
   ],
   "source": [
    "all_patches = []\n",
    "\n",
    "\n",
    "img_dir = \"query\"  # query, images\n",
    "if os.path.exists(img_dir):\n",
    "    if os.listdir(img_dir) is []:\n",
    "        print(\"No images!\")\n",
    "        exit(0)\n",
    "        \n",
    "    sorted_listdir = sorted(os.listdir(img_dir), key=lambda e: [int(s) for s in re.split('[q.]', e) if s.isdigit()])\n",
    "    num_img = len(os.listdir(img_dir))\n",
    "    for img in sorted_listdir:\n",
    "        if not img.endswith(\"JPG\"):\n",
    "            continue\n",
    "        \n",
    "        image_dir = os.path.join(img_dir, img)\n",
    "        image = cv2.imread(image_dir)\n",
    "        gray= cv2.cvtColor(image,cv2.COLOR_BGR2GRAY)\n",
    "        \n",
    "        print(image_dir)\n",
    "        \n",
    "        #SIFT Detector\n",
    "        sift = cv2.SIFT_create(nfeatures = 20)\n",
    "        kp, des = sift.detectAndCompute(gray,None)\n",
    "        keypoints = []\n",
    "        \n",
    "        for i in range(len(kp)):\n",
    "            keypoints.append([kp[i].pt[0],kp[i].pt[1]])\n",
    "        \n",
    "        patches = getPatches(keypoints, gray, size=32, num=20)\n",
    "        all_patches.append(patches)\n",
    "          \n",
    "    \n",
    "        \n",
    "#         for patch in patches:\n",
    "#             image = patch[0].numpy()\n",
    "#             plt.imshow(image, cmap='gray')\n",
    "#             plt.show()\n",
    "            \n",
    "    print('all_patch:',len(all_patches)) \n",
    "\n",
    "else:\n",
    "    print(\"image folder not exists!\")\n",
    "    exit(0)\n"
   ]
  },
  {
   "cell_type": "code",
   "execution_count": 62,
   "metadata": {},
   "outputs": [],
   "source": [
    "all_patches = torch.stack(all_patches, dim=0)\n",
    "output_dir = \"query_patches.pth\"         # modify it to images_patches.pth or query_patches.pth\n",
    "torch.save(all_patches, output_dir)"
   ]
  },
  {
   "cell_type": "code",
   "execution_count": 63,
   "metadata": {
    "collapsed": true,
    "jupyter": {
     "outputs_hidden": true
    }
   },
   "outputs": [
    {
     "name": "stdout",
     "output_type": "stream",
     "text": [
      "<class 'torch.Tensor'>\n",
      "torch.Size([34, 20, 1, 32, 32])\n",
      "tensor([[[[174., 173., 176.,  ..., 174., 175.,  73.],\n",
      "          [175., 174., 177.,  ..., 184., 166.,  70.],\n",
      "          [168., 177., 177.,  ..., 168., 156., 108.],\n",
      "          ...,\n",
      "          [188., 192., 194.,  ..., 177., 196., 208.],\n",
      "          [183., 191., 195.,  ..., 189., 196., 202.],\n",
      "          [184., 194., 199.,  ..., 200., 198., 198.]]],\n",
      "\n",
      "\n",
      "        [[[168., 135.,  75.,  ..., 129., 140.,  96.],\n",
      "          [163., 116.,  50.,  ...,  52.,  75.,  72.],\n",
      "          [170., 159., 155.,  ..., 109., 124., 129.],\n",
      "          ...,\n",
      "          [174., 165.,  71.,  ..., 157., 178., 154.],\n",
      "          [179., 170.,  94.,  ..., 190., 176., 119.],\n",
      "          [172., 179., 135.,  ..., 180., 188., 160.]]],\n",
      "\n",
      "\n",
      "        [[[168., 135.,  75.,  ..., 129., 140.,  96.],\n",
      "          [163., 116.,  50.,  ...,  52.,  75.,  72.],\n",
      "          [170., 159., 155.,  ..., 109., 124., 129.],\n",
      "          ...,\n",
      "          [174., 165.,  71.,  ..., 157., 178., 154.],\n",
      "          [179., 170.,  94.,  ..., 190., 176., 119.],\n",
      "          [172., 179., 135.,  ..., 180., 188., 160.]]],\n",
      "\n",
      "\n",
      "        ...,\n",
      "\n",
      "\n",
      "        [[[158., 147., 151.,  ...,  16.,  84., 163.],\n",
      "          [137., 130., 139.,  ..., 133., 146., 164.],\n",
      "          [106., 119., 131.,  ..., 156., 171., 162.],\n",
      "          ...,\n",
      "          [ 69., 100., 137.,  ..., 165., 178.,  80.],\n",
      "          [ 66.,  99., 140.,  ..., 178., 184.,  55.],\n",
      "          [ 71.,  90., 133.,  ..., 189., 143.,  54.]]],\n",
      "\n",
      "\n",
      "        [[[172., 185., 181.,  ..., 187., 183., 148.],\n",
      "          [166., 181., 177.,  ..., 169., 188., 137.],\n",
      "          [177., 182., 186.,  ..., 184., 188., 114.],\n",
      "          ...,\n",
      "          [241., 247., 251.,  ..., 248., 248., 245.],\n",
      "          [243., 247., 249.,  ..., 247., 251., 251.],\n",
      "          [240., 244., 244.,  ..., 237., 249., 252.]]],\n",
      "\n",
      "\n",
      "        [[[137., 150., 158.,  ..., 150., 149., 149.],\n",
      "          [ 95., 131., 156.,  ..., 151., 150., 150.],\n",
      "          [ 69., 121., 156.,  ..., 153., 152., 152.],\n",
      "          ...,\n",
      "          [ 47.,  42.,  47.,  ..., 165., 168., 168.],\n",
      "          [ 95., 100.,  98.,  ..., 169., 168., 168.],\n",
      "          [130., 135., 129.,  ..., 164., 168., 168.]]]])\n",
      "tensor([[[[179., 177., 176.,  ..., 172., 174., 176.],\n",
      "          [139., 139., 140.,  ..., 183., 183., 183.],\n",
      "          [174., 177., 179.,  ..., 183., 183., 183.],\n",
      "          ...,\n",
      "          [182., 190., 186.,  ..., 157., 117., 193.],\n",
      "          [171., 177., 130.,  ..., 156., 103., 175.],\n",
      "          [180., 178., 104.,  ..., 174., 134., 169.]]],\n",
      "\n",
      "\n",
      "        [[[172., 168., 166.,  ..., 167., 168., 170.],\n",
      "          [141., 142., 143.,  ..., 185., 185., 185.],\n",
      "          [176., 178., 180.,  ..., 180., 180., 180.],\n",
      "          ...,\n",
      "          [182., 186., 188.,  ..., 185., 185., 186.],\n",
      "          [187., 185., 192.,  ..., 185., 186., 186.],\n",
      "          [193., 186., 200.,  ..., 185., 186., 186.]]],\n",
      "\n",
      "\n",
      "        [[[172., 168., 166.,  ..., 167., 168., 170.],\n",
      "          [141., 142., 143.,  ..., 185., 185., 185.],\n",
      "          [176., 178., 180.,  ..., 180., 180., 180.],\n",
      "          ...,\n",
      "          [182., 186., 188.,  ..., 185., 185., 186.],\n",
      "          [187., 185., 192.,  ..., 185., 186., 186.],\n",
      "          [193., 186., 200.,  ..., 185., 186., 186.]]],\n",
      "\n",
      "\n",
      "        ...,\n",
      "\n",
      "\n",
      "        [[[174., 171., 171.,  ..., 163., 170., 171.],\n",
      "          [154., 142., 140.,  ..., 185., 184., 183.],\n",
      "          [160., 173., 179.,  ..., 183., 182., 179.],\n",
      "          ...,\n",
      "          [158., 178., 184.,  ..., 161., 195., 146.],\n",
      "          [157., 177., 184.,  ..., 163., 187., 163.],\n",
      "          [156., 176., 184.,  ..., 139., 180., 192.]]],\n",
      "\n",
      "\n",
      "        [[[149.,  71.,  74.,  ..., 179., 179., 178.],\n",
      "          [147.,  72.,  74.,  ..., 179., 179., 178.],\n",
      "          [140.,  64.,  72.,  ..., 179., 179., 178.],\n",
      "          ...,\n",
      "          [164., 164., 172.,  ..., 162., 148.,  93.],\n",
      "          [163., 163., 160.,  ..., 143., 145., 118.],\n",
      "          [163., 163., 170.,  ..., 148., 153., 168.]]],\n",
      "\n",
      "\n",
      "        [[[171., 178., 182.,  ...,  61.,  81.,  71.],\n",
      "          [ 83., 106., 179.,  ...,  76.,  63.,  63.],\n",
      "          [ 64.,  78., 170.,  ..., 150., 114.,  81.],\n",
      "          ...,\n",
      "          [187., 187., 187.,  ..., 186., 185., 184.],\n",
      "          [187., 187., 187.,  ..., 175., 173., 171.],\n",
      "          [191., 191., 190.,  ..., 154., 155., 155.]]]])\n"
     ]
    }
   ],
   "source": [
    "test_patches = torch.load(output_dir)\n",
    "print(type(test_patches))\n",
    "print(test_patches.shape)\n",
    "\n",
    "print(test_patches[0])\n",
    "print(test_patches[1])\n",
    "# your tensor for each should have size of [136, 200, 1, 32, 32];where 136 means 136 images (in the order 1-10), 20 means 20 points.(images)\n",
    "# your tensor for each should have size of [34, 200, 1, 32, 32];where 34 means 34 images (in the order 1-10), 20 means 20 points.(query)"
   ]
  },
  {
   "cell_type": "markdown",
   "metadata": {},
   "source": [
    "### Load network weights"
   ]
  },
  {
   "cell_type": "code",
   "execution_count": 91,
   "metadata": {},
   "outputs": [
    {
     "data": {
      "text/plain": [
       "DesNet(\n",
       "  (features): Sequential(\n",
       "    (0): Conv2d(1, 32, kernel_size=(3, 3), stride=(2, 2), padding=(1, 1), bias=False)\n",
       "    (1): BatchNorm2d(32, eps=1e-05, momentum=0.1, affine=False, track_running_stats=True)\n",
       "    (2): ReLU()\n",
       "    (3): Conv2d(32, 128, kernel_size=(3, 3), stride=(2, 2), padding=(1, 1), bias=False)\n",
       "    (4): BatchNorm2d(128, eps=1e-05, momentum=0.1, affine=False, track_running_stats=True)\n",
       "    (5): ReLU()\n",
       "    (6): Dropout(p=0.3, inplace=False)\n",
       "    (7): Conv2d(128, 96, kernel_size=(3, 3), stride=(1, 1), padding=(1, 1), bias=False)\n",
       "    (8): BatchNorm2d(96, eps=1e-05, momentum=0.1, affine=False, track_running_stats=True)\n",
       "    (9): ReLU()\n",
       "    (10): Dropout(p=0.3, inplace=False)\n",
       "    (11): Conv2d(96, 128, kernel_size=(3, 3), stride=(1, 1), padding=(1, 1), bias=False)\n",
       "    (12): BatchNorm2d(128, eps=1e-05, momentum=0.1, affine=False, track_running_stats=True)\n",
       "    (13): ReLU()\n",
       "    (14): Dropout(p=0.5, inplace=False)\n",
       "    (15): Conv2d(128, 128, kernel_size=(8, 8), stride=(1, 1), bias=False)\n",
       "    (16): BatchNorm2d(128, eps=1e-05, momentum=0.1, affine=False, track_running_stats=True)\n",
       "  )\n",
       ")"
      ]
     },
     "execution_count": 91,
     "metadata": {},
     "output_type": "execute_result"
    }
   ],
   "source": [
    "from my_CNN2 import DesNet #our or my CNN.py\n",
    "model = DesNet()\n",
    "\n",
    "if args.cuda:\n",
    "    model.cuda()\n",
    "\n",
    "trained_weight_path = \"models/my_checkpoint2.pth\" # suppose you select *checkpoint.pth as the best model for this architecture\n",
    "test_model = DesNet()\n",
    "if args.cuda:\n",
    "    test_model.cuda()\n",
    "trained_weight = torch.load(trained_weight_path)['state_dict']\n",
    "test_model.load_state_dict(trained_weight)\n",
    "test_model.eval()"
   ]
  },
  {
   "cell_type": "markdown",
   "metadata": {},
   "source": [
    "### Load raw patch files"
   ]
  },
  {
   "cell_type": "code",
   "execution_count": 95,
   "metadata": {},
   "outputs": [
    {
     "name": "stdout",
     "output_type": "stream",
     "text": [
      "torch.Size([34, 20, 1, 32, 32])\n",
      "torch.Size([680, 1, 32, 32])\n"
     ]
    }
   ],
   "source": [
    "patches_dir = \"query_patches.pth\"            # these patches are from keypoint detection results e.g. images_patches.pth or query_patches.pth\n",
    "#patches_dir = \"images_patches.pth\"  \n",
    "patches = torch.load(patches_dir)\n",
    "print(patches.shape)                  # in your case, the shape should be [10, 200, 1, 32, 32]\n",
    "num_imgs, num_pts, _, _, _ = patches.shape\n",
    "patches = patches.view(-1, 1, 32, 32).cuda()\n",
    "print(patches.shape)\n"
   ]
  },
  {
   "cell_type": "markdown",
   "metadata": {},
   "source": [
    "### Get deep features"
   ]
  },
  {
   "cell_type": "code",
   "execution_count": 96,
   "metadata": {},
   "outputs": [
    {
     "name": "stdout",
     "output_type": "stream",
     "text": [
      "torch.Size([680, 128])\n",
      "torch.Size([34, 20, 128])\n"
     ]
    }
   ],
   "source": [
    "features = test_model(patches)\n",
    "print(features.shape)\n",
    "features = features.view(num_imgs, num_pts, 128).cpu().data\n",
    "print(features.shape)                  # in your case, the shape should be [10, 200, 128]"
   ]
  },
  {
   "cell_type": "code",
   "execution_count": 97,
   "metadata": {},
   "outputs": [],
   "source": [
    "# save to file, with the name of images or query_features.pth\n",
    "features_dir = \"query_features_my_CNN.pth\" #query_features_our_CNN.pth, query_features_my_CNN.pth, images_features_our_CNN.pth, images_features_my_CNN.pth\n",
    "torch.save(features, features_dir)"
   ]
  },
  {
   "cell_type": "code",
   "execution_count": 3,
   "metadata": {},
   "outputs": [
    {
     "name": "stdout",
     "output_type": "stream",
     "text": [
      "q_mycnn : torch.Size([34, 20, 128])\n",
      "i_mycnn : torch.Size([136, 20, 128])\n",
      "features1 : torch.Size([170, 20, 128])\n",
      "q_ourcnn : torch.Size([34, 20, 128])\n",
      "i_ourcnn : torch.Size([136, 20, 128])\n",
      "features2 : torch.Size([170, 20, 128])\n"
     ]
    }
   ],
   "source": [
    "#combine features\n",
    "q_mycnn = torch.load(\"query_features_my_CNN.pth\")\n",
    "i_mycnn = torch.load(\"images_features_my_CNN.pth\")\n",
    "features1 = torch.cat((q_mycnn, i_mycnn), dim = 0)\n",
    "torch.save(features1, \"features1.pth\")\n",
    "print('q_mycnn :', q_mycnn.shape)\n",
    "print('i_mycnn :', i_mycnn.shape)\n",
    "print('features1 :', features1.shape)\n",
    "\n",
    "q_ourcnn = torch.load(\"query_features_our_CNN.pth\")\n",
    "\n",
    "i_ourcnn = torch.load(\"images_features_our_CNN.pth\")\n",
    "features2 = torch.cat((q_ourcnn, i_ourcnn), dim = 0)\n",
    "torch.save(features2, \"features2.pth\")\n",
    "print('q_ourcnn :', q_ourcnn.shape)\n",
    "print('i_ourcnn :', i_ourcnn.shape)\n",
    "print('features2 :', features2.shape)\n"
   ]
  },
  {
   "cell_type": "markdown",
   "metadata": {},
   "source": [
    "### Get similarity matrices"
   ]
  },
  {
   "cell_type": "code",
   "execution_count": 3,
   "metadata": {},
   "outputs": [
    {
     "name": "stdout",
     "output_type": "stream",
     "text": [
      "f_query : torch.Size([34, 20, 128])\n",
      "f_images : torch.Size([136, 20, 128])\n",
      "torch.Size([20, 128])\n",
      "torch.Size([20, 128])\n",
      "tensor(17.6792)\n"
     ]
    }
   ],
   "source": [
    "f_query = torch.load(\"query_features_my_CNN.pth\") #query_features_our_CNN.pth, query_features_my_CNN.pth\n",
    "f_images = torch.load(\"images_features_my_CNN.pth\") #images_features_our_CNN.pth, images_features_my_CNN.pth\n",
    "\n",
    "print('f_query :', f_query.shape)\n",
    "print('f_images :', f_images.shape)\n",
    "\n",
    "\n",
    "f_q = f_query[0]\n",
    "f_i = f_images[0]\n",
    "simi = torch.zeros(20, 20)\n",
    "#cost = torch.zeros(20, 20)\n",
    "print(f_q.shape)\n",
    "print(f_i.shape)\n",
    "for i in range(20):\n",
    "    for j in range(20):\n",
    "        simi[i,j] = (1 + F.cosine_similarity(f_q[i], f_i[j], dim=0))/2\n",
    "        cost = 1 - simi\n",
    "        row_ind, col_ind = linear_sum_assignment(cost.cpu().numpy())\n",
    "# print(cost)\n",
    "# print(row_ind)\n",
    "# print(col_ind)\n",
    "print(simi[row_ind, col_ind].sum())"
   ]
  },
  {
   "cell_type": "code",
   "execution_count": 111,
   "metadata": {},
   "outputs": [],
   "source": [
    "def one2one_cost(f_q, f_i):\n",
    "    cost = torch.zeros(20, 20)\n",
    "    simi = torch.zeros(20, 20)\n",
    "    for i in range(20):\n",
    "        for j in range(20):\n",
    "            simi[i,j] = (1 + F.cosine_similarity(f_q[i], f_i[j], dim=0))/2\n",
    "            cost[i,j] = 1 - simi[i,j]\n",
    "            row_ind, col_ind = linear_sum_assignment(cost.cpu().numpy())\n",
    "    \n",
    "    return simi[row_ind, col_ind].sum()\n",
    "\n",
    "def many2many_cost(f_q, f_i, threshold= 0.002):\n",
    "    simi = torch.zeros(20, 20)\n",
    "    for i in range(20):\n",
    "        for j in range(20):\n",
    "            simi[i,j] = (1 + F.cosine_similarity(f_q[i], f_i[j], dim=0))/2\n",
    "            \n",
    "    simiNorm = torch.sqrt(torch.sum(simi * simi))\n",
    "    simi_w = simi / simiNorm\n",
    "    simi_w = simi_w.gt(threshold).float()\n",
    "    \n",
    "    return (simi*simi_w).sum()\n",
    "            "
   ]
  },
  {
   "cell_type": "code",
   "execution_count": 112,
   "metadata": {},
   "outputs": [
    {
     "name": "stdout",
     "output_type": "stream",
     "text": [
      "finished No.1 query\n",
      "finished No.2 query\n",
      "finished No.3 query\n",
      "finished No.4 query\n",
      "finished No.5 query\n",
      "finished No.6 query\n",
      "finished No.7 query\n",
      "finished No.8 query\n",
      "finished No.9 query\n",
      "finished No.10 query\n",
      "finished No.11 query\n",
      "finished No.12 query\n",
      "finished No.13 query\n",
      "finished No.14 query\n",
      "finished No.15 query\n",
      "finished No.16 query\n",
      "finished No.17 query\n",
      "finished No.18 query\n",
      "finished No.19 query\n",
      "finished No.20 query\n",
      "finished No.21 query\n",
      "finished No.22 query\n",
      "finished No.23 query\n",
      "finished No.24 query\n",
      "finished No.25 query\n",
      "finished No.26 query\n",
      "finished No.27 query\n",
      "finished No.28 query\n",
      "finished No.29 query\n",
      "finished No.30 query\n",
      "finished No.31 query\n",
      "finished No.32 query\n",
      "finished No.33 query\n",
      "finished No.34 query\n"
     ]
    }
   ],
   "source": [
    "num_query = 34\n",
    "num_images = 136\n",
    "\n",
    "one2one = torch.zeros(num_query, num_images)\n",
    "many2many = torch.zeros(num_query, num_images)\n",
    "\n",
    "for i in range(num_query):\n",
    "    print(\"finished No.{} query\".format(i+1))\n",
    "    for j in range(num_images):\n",
    "        one2one[i, j] = one2one_cost(f_query[i], f_images[j])\n",
    "        many2many[i, j] = many2many_cost(f_query[i], f_images[j])\n",
    "        "
   ]
  },
  {
   "cell_type": "code",
   "execution_count": 113,
   "metadata": {},
   "outputs": [
    {
     "name": "stdout",
     "output_type": "stream",
     "text": [
      "torch.Size([34, 136])\n",
      "torch.Size([34, 136])\n"
     ]
    }
   ],
   "source": [
    "torch.save(one2one, \"one2one_my_CNN.pth\") # one2one_our_CNN.pth, one2one_my_CNN.pth\n",
    "torch.save(many2many, \"many2many_my_CNN.pth\") # many2many_our_CNN.pth, many2many_my_CNN.pth\n",
    "\n",
    "print(one2one.shape)\n",
    "print(many2many.shape)\n",
    "\n",
    "#print(one2one[0][2])"
   ]
  },
  {
   "cell_type": "code",
   "execution_count": 114,
   "metadata": {},
   "outputs": [
    {
     "name": "stdout",
     "output_type": "stream",
     "text": [
      "tensor([305.5307, 294.9021, 286.1891, 303.1107, 251.0905, 229.4309, 253.3837,\n",
      "        224.2710, 202.3746, 233.8455, 238.8197, 247.5226, 276.6566, 246.7089,\n",
      "        249.2020, 254.7012, 232.6393, 204.6151, 231.8051, 206.0430, 286.1118,\n",
      "        284.7894, 291.1692, 295.4197, 233.8269, 240.7763, 203.2519, 226.8479,\n",
      "        272.5327, 282.1113, 251.8949, 283.0021, 198.9613, 210.1407, 177.5143,\n",
      "        185.4327, 270.9193, 248.9739, 265.1798, 214.5025, 284.7313, 289.2218,\n",
      "        285.3844, 259.6801, 178.5487, 202.3270, 173.2561, 193.2098, 214.9453,\n",
      "        195.8065, 169.9281, 196.6255, 207.1272, 180.9537, 193.3401, 211.2554,\n",
      "        207.4528, 213.0452, 202.0715, 206.8229, 230.0147, 234.8837, 231.6817,\n",
      "        214.4009, 242.9623, 244.7396, 241.1922, 254.6860, 236.2025, 197.9610,\n",
      "        204.4934, 188.1815, 214.4266, 204.0286, 214.2450, 210.9882, 242.9501,\n",
      "        210.5924, 203.0331, 214.1367, 177.4964, 171.1913, 180.2125, 176.2443,\n",
      "        201.9164, 211.1945, 209.0051, 171.6597, 187.9238, 178.8595, 159.3971,\n",
      "        166.9769, 191.1402, 243.5395, 245.8492, 256.5720, 219.6814, 251.8479,\n",
      "        229.3302, 269.0969, 211.1810, 200.1791, 175.9649, 196.2714, 200.0099,\n",
      "        203.2210, 206.5850, 226.9959, 210.0793, 226.0194, 211.8442, 183.4688,\n",
      "        218.9367, 238.5168, 247.9691, 217.0819, 224.0076, 265.7917, 279.9958,\n",
      "        269.0254, 228.8346, 243.4684, 301.9032, 298.5413, 229.0691, 231.4006,\n",
      "        201.7902, 240.6067, 248.0448, 202.9280, 225.2849, 242.9103, 151.9878,\n",
      "        140.4360, 176.2468, 156.5815])\n"
     ]
    }
   ],
   "source": [
    "s = torch.load(\"many2many_my_CNN.pth\")\n",
    "print(s[0])"
   ]
  },
  {
   "cell_type": "markdown",
   "metadata": {},
   "source": [
    "### Get top 4 one2one, many2many"
   ]
  },
  {
   "cell_type": "code",
   "execution_count": 9,
   "metadata": {},
   "outputs": [],
   "source": [
    "our_one2one = torch.load(\"one2one_our_CNN.pth\") # one2one_our_CNN.pth, one2one_my_CNN.pth\n",
    "our_many2many = torch.load(\"many2many_our_CNN.pth\") # many2many_our_CNN.pth, many2many_my_CNN.pth\n",
    "\n",
    "my_one2one = torch.load(\"one2one_my_CNN.pth\") # one2one_our_CNN.pth, one2one_my_CNN.pth\n",
    "my_many2many = torch.load(\"many2many_my_CNN.pth\") # many2many_our_CNN.pth, many2many_my_CNN.pth\n",
    "\n",
    "\n",
    "### store retrieval.pth\n",
    "\n",
    "\n",
    "# _, my_top4_one2one = torch.topk(my_one2one, 4, dim = 1)\n",
    "# _, my_top4_many2many = torch.topk(my_many2many, 4, dim = 1)\n",
    "\n",
    "# _, our_top4_one2one = torch.topk(our_one2one, 4, dim = 1)\n",
    "# _, our_top4_many2many = torch.topk(our_many2many, 4, dim = 1)\n",
    "\n",
    "# print('our_top4_one2one :', our_top4_one2one.shape)\n",
    "# print('our_top4_many2many :', our_top4_many2many.shape)\n",
    "# print('my_top4_one2one :', my_top4_one2one.shape)\n",
    "# print('my_top4_many2many :', my_top4_many2many.shape)\n",
    "\n",
    "#print(our_top4_one2one)\n",
    "\n",
    "# retrieval = torch.stack([my_top4_many2many, my_top4_one2one, our_top4_many2many, our_top4_one2one], dim =0)\n",
    "# torch.save(retrieva, \"retrieval.pth\")\n",
    "# print(retrieval.shape)\n",
    "\n",
    "\n",
    "# our_top4_one_index = torch.zeros(34, 4)   #first 4 means how many k in 34 query images, 34 means 34 query images, last 4 means \n",
    "# our_top4_many_index = torch.zeros(34, 4)\n",
    "\n",
    "# my_top4_one_index = torch.zeros(34, 4)\n",
    "# my_top4_many_index = torch.zeros(34, 4)\n",
    "\n",
    "# for k in range(4):\n",
    "#     _, our_top4_one   = torch.topk(our_one2one, k+1, dim = 1)\n",
    "#     _, our_top4_many = torch.topk(our_many2many, k+1, dim = 1)\n",
    "    \n",
    "#     _, my_top4_one   = torch.topk(my_one2one, k+1, dim = 1)\n",
    "#     _, my_top4_many = torch.topk(my_many2many, k+1, dim = 1)\n",
    "    \n",
    "#     our_top4_one_index[:, :k+1] = our_top4_one + 1\n",
    "#     our_top4_many_index[:, :k+1] = our_top4_many + 1\n",
    "    \n",
    "#     my_top4_one_index[:, :k+1] = my_top4_one + 1\n",
    "#     my_top4_many_index[:, :k+1] = my_top4_many + 1\n",
    "    \n",
    "# #print(my_top4_many)\n",
    "# #print(my_top4_one_index)\n",
    "\n",
    "# retrieval = torch.stack([my_top4_many_index, my_top4_one_index, our_top4_many_index, our_top4_one_index], dim =0)\n",
    "# torch.save(retrieval, \"retrieval.pth\")\n",
    "# print(retrieval.shape)"
   ]
  },
  {
   "cell_type": "code",
   "execution_count": 10,
   "metadata": {},
   "outputs": [
    {
     "name": "stdout",
     "output_type": "stream",
     "text": [
      "tensor([[  1.,  21.,   2.,  22.],\n",
      "        [  5.,   7.,  56.,  66.],\n",
      "        [110., 130., 109.,  87.],\n",
      "        [ 23.,  21., 124.,   1.],\n",
      "        [109.,  17., 108., 110.],\n",
      "        [ 23.,  30., 124., 123.],\n",
      "        [ 74.,  63.,  61.,  76.],\n",
      "        [115.,  29.,  31.,  32.],\n",
      "        [ 87.,  35.,  86., 110.],\n",
      "        [ 99., 108., 110., 116.],\n",
      "        [ 41.,  43.,  42.,  21.],\n",
      "        [ 57., 104., 101.,  59.],\n",
      "        [126., 117., 132.,  63.],\n",
      "        [ 56.,  55.,  93.,  74.],\n",
      "        [114.,  40.,  99., 115.],\n",
      "        [ 61.,  62.,  64.,  63.],\n",
      "        [ 67.,  65.,  68.,  44.],\n",
      "        [104., 102.,  70.,  71.],\n",
      "        [ 73.,  75.,  62.,  63.],\n",
      "        [ 66., 132., 129.,  95.],\n",
      "        [ 84., 134., 133.,  91.],\n",
      "        [134., 136.,  91.,  45.],\n",
      "        [ 89.,  74.,  73.,  63.],\n",
      "        [ 76.,  73.,  75.,  74.],\n",
      "        [ 98.,  29., 123.,   4.],\n",
      "        [101., 102., 115.,  69.],\n",
      "        [129.,  77.,  68.,  56.],\n",
      "        [ 43.,  44.,  32.,  13.],\n",
      "        [113., 114., 115.,  65.],\n",
      "        [117.,  61., 120., 129.],\n",
      "        [ 23.,  21.,  42.,  44.],\n",
      "        [125., 131.,  63., 128.],\n",
      "        [130.,  50.,  55., 127.],\n",
      "        [133., 135., 134., 104.]])\n",
      "tensor([[  1.,   4., 123., 124.],\n",
      "        [  5.,   7.,  63.,  25.],\n",
      "        [ 79.,  74.,  64.,  56.],\n",
      "        [  4.,   1., 124., 123.],\n",
      "        [108.,  30.,  99., 110.],\n",
      "        [  4.,   1., 123., 124.],\n",
      "        [ 74.,  63.,  76.,  73.],\n",
      "        [ 37.,  30.,  39.,  32.],\n",
      "        [ 74.,  64.,  73.,  75.],\n",
      "        [108.,  99.,  30., 110.],\n",
      "        [ 41.,  42., 120., 124.],\n",
      "        [ 97., 108.,  60., 101.],\n",
      "        [117., 120., 119.,  62.],\n",
      "        [ 56.,  74.,  55.,  63.],\n",
      "        [ 30.,  37.,  31.,  39.],\n",
      "        [ 62.,  61.,  64.,  73.],\n",
      "        [124., 123.,  42.,  41.],\n",
      "        [108.,  99.,  86.,  85.],\n",
      "        [ 76.,  73.,  63.,  62.],\n",
      "        [ 62.,  61.,  63., 117.],\n",
      "        [134.,  88.,  84., 133.],\n",
      "        [134.,  85., 105., 133.],\n",
      "        [ 74.,  64.,  76.,  73.],\n",
      "        [ 76.,  73.,  74.,  64.],\n",
      "        [ 98.,  29., 123.,   4.],\n",
      "        [ 37.,  30.,  39.,  29.],\n",
      "        [ 62.,  61.,   5.,  63.],\n",
      "        [  1.,   2.,   4.,  30.],\n",
      "        [ 25.,  76.,  74.,  29.],\n",
      "        [120., 117.,  61.,  63.],\n",
      "        [ 24., 123.,  42., 124.],\n",
      "        [117., 131.,  63., 120.],\n",
      "        [ 63.,  73.,  74.,  56.],\n",
      "        [133., 134.,  84.,  81.]])\n"
     ]
    }
   ],
   "source": [
    "our_top4_one_index = torch.zeros(4, 34, 4)   #first 4 means how many k in 34 query images, 34 means 34 query images, last 4 means \n",
    "our_top4_many_index = torch.zeros(4, 34, 4)\n",
    "\n",
    "my_top4_one_index = torch.zeros(4, 34, 4)\n",
    "my_top4_many_index = torch.zeros(4, 34, 4)\n",
    "\n",
    "for k in range(4):\n",
    "    _, our_top4_one   = torch.topk(our_one2one, k+1, dim = 1)\n",
    "    _, our_top4_many = torch.topk(our_many2many, k+1, dim = 1)\n",
    "    \n",
    "    our_top4_one_index[k, :, :k+1] = our_top4_one + 1\n",
    "    our_top4_many_index[k, :, :k+1] = our_top4_many + 1\n",
    "\n",
    "    \n",
    "for i in range(4):\n",
    "    _, my_top4_one   = torch.topk(my_one2one, i+1, dim = 1)\n",
    "    _, my_top4_many = torch.topk(my_many2many, i+1, dim = 1)\n",
    "    \n",
    "    my_top4_one_index[i, :, :i+1] = my_top4_one + 1\n",
    "    my_top4_many_index[i, :, :i+1] = my_top4_many + 1\n",
    "#print(top4_one_index.shape)\n",
    "#print(top4_many_index.shape)\n",
    "\n",
    "#print(our_top4_one)\n",
    "print(my_top4_one_index[3])\n",
    "print(my_top4_many_index[3])"
   ]
  },
  {
   "cell_type": "code",
   "execution_count": 11,
   "metadata": {},
   "outputs": [
    {
     "name": "stdout",
     "output_type": "stream",
     "text": [
      "tensor([[  1.,   2.,   3.,   4.],\n",
      "        [  5.,   6.,   7.,   8.],\n",
      "        [  9.,  10.,  11.,  12.],\n",
      "        [ 13.,  14.,  15.,  16.],\n",
      "        [ 17.,  18.,  19.,  20.],\n",
      "        [ 21.,  22.,  23.,  24.],\n",
      "        [ 25.,  26.,  27.,  28.],\n",
      "        [ 29.,  30.,  31.,  32.],\n",
      "        [ 33.,  34.,  35.,  36.],\n",
      "        [ 37.,  38.,  39.,  40.],\n",
      "        [ 41.,  42.,  43.,  44.],\n",
      "        [ 45.,  46.,  47.,  48.],\n",
      "        [ 49.,  50.,  51.,  52.],\n",
      "        [ 53.,  54.,  55.,  56.],\n",
      "        [ 57.,  58.,  59.,  60.],\n",
      "        [ 61.,  62.,  63.,  64.],\n",
      "        [ 65.,  66.,  67.,  68.],\n",
      "        [ 69.,  70.,  71.,  72.],\n",
      "        [ 73.,  74.,  75.,  76.],\n",
      "        [ 77.,  78.,  79.,  80.],\n",
      "        [ 81.,  82.,  83.,  84.],\n",
      "        [ 85.,  86.,  87.,  88.],\n",
      "        [ 89.,  90.,  91.,  92.],\n",
      "        [ 93.,  94.,  95.,  96.],\n",
      "        [ 97.,  98.,  99., 100.],\n",
      "        [101., 102., 103., 104.],\n",
      "        [105., 106., 107., 108.],\n",
      "        [109., 110., 111., 112.],\n",
      "        [113., 114., 115., 116.],\n",
      "        [117., 118., 119., 120.],\n",
      "        [121., 122., 123., 124.],\n",
      "        [125., 126., 127., 128.],\n",
      "        [129., 130., 131., 132.],\n",
      "        [133., 134., 135., 136.]])\n"
     ]
    }
   ],
   "source": [
    "ground_truth = torch.empty(34, 4)\n",
    "\n",
    "f = open('ground_truth.txt')\n",
    "count = 0\n",
    "for line in f.readlines():\n",
    "    if not line.startswith(\"q\"):\n",
    "        continue\n",
    "    line = line.strip().split(\"  \")\n",
    "    query = int(line[0][1:])\n",
    "    images = int(line[1])\n",
    "    ground_truth[query - 1][count % 4] = images\n",
    "    #print(query)\n",
    "    count +=1\n",
    "f.close\n",
    "print(ground_truth)"
   ]
  },
  {
   "cell_type": "markdown",
   "metadata": {},
   "source": [
    "### Our_CNN"
   ]
  },
  {
   "cell_type": "code",
   "execution_count": 12,
   "metadata": {
    "collapsed": true,
    "jupyter": {
     "outputs_hidden": true
    }
   },
   "outputs": [
    {
     "name": "stdout",
     "output_type": "stream",
     "text": [
      "our_p_one : tensor([0.9706, 0.8824, 0.7549, 0.6765])\n",
      "our_r_one : tensor([0.2426, 0.4412, 0.5662, 0.6765])\n",
      "our_p_many : tensor([0.5000, 0.4559, 0.4020, 0.3603])\n",
      "our_r_many : tensor([0.1250, 0.2279, 0.3015, 0.3603])\n"
     ]
    }
   ],
   "source": [
    "our_p_one = torch.zeros(4,1)\n",
    "our_r_one = torch.zeros(4,1)\n",
    "\n",
    "for k in range(4):\n",
    "    precision_one, recall_one = 0, 0\n",
    "    for i in range(34):\n",
    "        for idx_images in our_top4_one_index[k][i][:k+1]:\n",
    "            if int(idx_images) in ground_truth[i]:\n",
    "                precision_one += 1/(k+1)/34\n",
    "                recall_one += 1/4/34\n",
    "    \n",
    "    our_p_one[k] = precision_one\n",
    "    our_r_one[k] = recall_one\n",
    "\n",
    "\n",
    "our_p_many = torch.zeros(4,1)\n",
    "our_r_many = torch.zeros(4,1)\n",
    "\n",
    "for k in range(4):\n",
    "    precision_many, recall_many = 0, 0\n",
    "    for i in range(34):\n",
    "        for idx_images in our_top4_many_index[k][i][:k+1]:\n",
    "            if int(idx_images) in ground_truth[i]:\n",
    "                precision_many += 1/(k+1)/34\n",
    "                recall_many += 1/4/34\n",
    "    \n",
    "    our_p_many[k] = precision_many\n",
    "    our_r_many[k] = recall_many\n",
    "    \n",
    "    \n",
    "    \n",
    "print('our_p_one :', our_p_one[:,0])\n",
    "print('our_r_one :', our_r_one[:,0])\n",
    "print('our_p_many :', our_p_many[:,0])\n",
    "print('our_r_many :', our_r_many[:,0])\n",
    "        "
   ]
  },
  {
   "cell_type": "markdown",
   "metadata": {},
   "source": [
    "### My_CNN"
   ]
  },
  {
   "cell_type": "code",
   "execution_count": 13,
   "metadata": {
    "collapsed": true,
    "jupyter": {
     "outputs_hidden": true
    }
   },
   "outputs": [
    {
     "name": "stdout",
     "output_type": "stream",
     "text": [
      "my_p_one : tensor([0.5000, 0.4265, 0.3725, 0.3088])\n",
      "my_r_one : tensor([0.1250, 0.2132, 0.2794, 0.3088])\n",
      "my_p_many : tensor([0.2647, 0.2794, 0.2157, 0.1765])\n",
      "my_r_many : tensor([0.0662, 0.1397, 0.1618, 0.1765])\n"
     ]
    }
   ],
   "source": [
    "my_p_one = torch.zeros(4,1)\n",
    "my_r_one = torch.zeros(4,1)\n",
    "\n",
    "for k in range(4):\n",
    "    precision_one, recall_one = 0, 0\n",
    "    for i in range(34):\n",
    "        for idx_images in my_top4_one_index[k][i][:k+1]:\n",
    "            if int(idx_images) in ground_truth[i]:\n",
    "                precision_one += 1/(k+1)/34\n",
    "                recall_one += 1/4/34\n",
    "    \n",
    "    my_p_one[k] = precision_one\n",
    "    my_r_one[k] = recall_one\n",
    "\n",
    "\n",
    "my_p_many = torch.zeros(4,1)\n",
    "my_r_many = torch.zeros(4,1)\n",
    "\n",
    "for k in range(4):\n",
    "    precision_many, recall_many = 0, 0\n",
    "    for i in range(34):\n",
    "        for idx_images in my_top4_many_index[k][i][:k+1]:\n",
    "            if int(idx_images) in ground_truth[i]:\n",
    "                precision_many += 1/(k+1)/34\n",
    "                recall_many += 1/4/34\n",
    "    \n",
    "    my_p_many[k] = precision_many\n",
    "    my_r_many[k] = recall_many\n",
    "    \n",
    "    \n",
    "    \n",
    "print('my_p_one :', my_p_one[:,0])\n",
    "print('my_r_one :', my_r_one[:,0])\n",
    "print('my_p_many :', my_p_many[:,0])\n",
    "print('my_r_many :', my_r_many[:,0])"
   ]
  },
  {
   "cell_type": "markdown",
   "metadata": {},
   "source": [
    "### Draw plot"
   ]
  },
  {
   "cell_type": "code",
   "execution_count": 16,
   "metadata": {},
   "outputs": [
    {
     "data": {
      "image/png": "[encoded data removed]",
      "text/plain": [
       "<Figure size 432x288 with 1 Axes>"
      ]
     },
     "metadata": {
      "needs_background": "light"
     },
     "output_type": "display_data"
    },
    {
     "data": {
      "image/png": "[encoded data removed]",
      "text/plain": [
       "<Figure size 432x288 with 1 Axes>"
      ]
     },
     "metadata": {
      "needs_background": "light"
     },
     "output_type": "display_data"
    }
   ],
   "source": [
    "# one2one plot\n",
    "k = [i for i in range(1, 5)]\n",
    "plt.figure()\n",
    "x1 = our_r_one\n",
    "x2 = my_r_one\n",
    "y1 = our_p_one\n",
    "y2 = my_p_one\n",
    "plt.title('Our_one2one vs. My_one2one', fontsize=10)\n",
    "plt.xlim(0.1,0.8)\n",
    "plt.ylim(0.1,1.1)\n",
    "plt.plot(x1, y1, \"-go\", label='Our_one2one')\n",
    "plt.plot(x2, y2, \"-ro\", label='My_one2one')\n",
    "plt.ylabel('Precision', fontsize=10)\n",
    "plt.xlabel('Recall', fontsize=10)\n",
    "for i in range(4):\n",
    "    plt.annotate('  K={}'.format(i + 1), xy = (our_r_one[i], our_p_one[i]), textcoords = 'data')\n",
    "    plt.annotate('  K={}'.format(i + 1), xy = (my_r_one[i], my_p_one[i]), textcoords = 'data')\n",
    "plt.legend(['Our_one2one', 'My_one2one'], loc='upper right') \n",
    "plt.savefig(\"imgPath/one2one.jpg\")\n",
    "plt.show()\n",
    "\n",
    "# many2many plot\n",
    "k = [i for i in range(1, 5)]\n",
    "plt.figure()\n",
    "x1 = our_r_many\n",
    "x2 = my_r_many\n",
    "y1 = our_p_many\n",
    "y2 = my_p_many\n",
    "plt.title('Our_many2many vs. My_many2many', fontsize=10)\n",
    "plt.plot(x1, y1, \"-go\", label='Our_many2many')\n",
    "plt.plot(x2, y2, \"-ro\", label='My_many2many')\n",
    "plt.ylabel('Precision', fontsize=10)\n",
    "plt.xlabel('Recall', fontsize=10)\n",
    "for i in range(4):\n",
    "    plt.annotate('  K={}'.format(i + 1), xy = (our_r_many[i], our_p_many[i]), textcoords = 'data')\n",
    "    plt.annotate('  K={}'.format(i + 1), xy = (my_r_many[i], my_p_many[i]), textcoords = 'data')\n",
    "plt.legend(['Our_many2many', 'My_many2many'], loc='upper right') \n",
    "plt.savefig(\"imgPath/many2many.jpg\")\n",
    "plt.show()"
   ]
  },
  {
   "cell_type": "code",
   "execution_count": null,
   "metadata": {},
   "outputs": [],
   "source": []
  }
 ],
 "metadata": {
  "kernelspec": {
   "display_name": "Python [conda env:hw1_new] *",
   "language": "python",
   "name": "conda-env-hw1_new-py"
  },
  "language_info": {
   "codemirror_mode": {
    "name": "ipython",
    "version": 3
   },
   "file_extension": ".py",
   "mimetype": "text/x-python",
   "name": "python",
   "nbconvert_exporter": "python",
   "pygments_lexer": "ipython3",
   "version": "3.6.13"
  }
 },
 "nbformat": 4,
 "nbformat_minor": 4
}
